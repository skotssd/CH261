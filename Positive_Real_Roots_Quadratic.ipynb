{
 "cells": [
  {
   "cell_type": "code",
   "execution_count": 7,
   "metadata": {},
   "outputs": [],
   "source": [
    "% some housekeeping stuff\n",
    "register_graphics_toolkit (\"gnuplot\");\n",
    "available_graphics_toolkits ();\n",
    "graphics_toolkit (\"gnuplot\")\n",
    "clear\n",
    "% end of housekeeping"
   ]
  },
  {
   "cell_type": "markdown",
   "metadata": {},
   "source": [
    "# Roots of a quadratic equation\n",
    "\n",
    "The general form of a quadratic equation is :\n",
    "\n",
    "$ax^2 + bx+c=0$\n",
    "\n",
    "it is possible to solve for the roots (x values where y=0) using the quadratic equation.  You can also solve numerically using this script.  Just input the values for a, b and c in the code below.\n",
    "\n",
    "This might be useful for doing assignments in CH261"
   ]
  },
  {
   "cell_type": "code",
   "execution_count": 8,
   "metadata": {},
   "outputs": [
    {
     "name": "stdout",
     "output_type": "stream",
     "text": [
      "c = -0.0000050099\n",
      "t =  0.0022134\n",
      "pt =  2.6549\n"
     ]
    }
   ],
   "source": [
    "%plot -s 600,500 -f 'svg'\n",
    "a=1; Ka=5.009933e-5; AT=0.1; \n",
    "b=Ka;\n",
    "c=-AT*Ka\n",
    "t=roots([a b c]); %finds the roots\n",
    "t=t(imag(t)==0); %sets any imaginary roots to zero\n",
    "% display the positive real root\n",
    "\n",
    "t=t(t>0)\n",
    "\n",
    "% take minus log in case that might be useful (pH for example)\n",
    "\n",
    "pt=-log10(t)"
   ]
  },
  {
   "cell_type": "code",
   "execution_count": 9,
   "metadata": {},
   "outputs": [
    {
     "data": {
      "image/svg+xml": [
       "<svg xmlns=\"http://www.w3.org/2000/svg\" xmlns:xlink=\"http://www.w3.org/1999/xlink\" width=\"600px\" height=\"500px\" viewBox=\"0 0 560 420\">\n",
       "\n",
       "<title>Gnuplot</title>\n",
       "<desc>Produced by GNUPLOT 5.4 patchlevel 0 </desc>\n",
       "\n",
       "<g id=\"gnuplot_canvas\">\n",
       "\n",
       "<rect x=\"0\" y=\"0\" width=\"560\" height=\"420\" fill=\"none\"/>\n",
       "<defs>\n",
       "\n",
       "\t<circle id=\"gpDot\" r=\"0.5\" stroke-width=\"0.5\" stroke=\"currentColor\"/>\n",
       "\t<path id=\"gpPt0\" stroke-width=\"0.222\" stroke=\"currentColor\" d=\"M-1,0 h2 M0,-1 v2\"/>\n",
       "\t<path id=\"gpPt1\" stroke-width=\"0.222\" stroke=\"currentColor\" d=\"M-1,-1 L1,1 M1,-1 L-1,1\"/>\n",
       "\t<path id=\"gpPt2\" stroke-width=\"0.222\" stroke=\"currentColor\" d=\"M-1,0 L1,0 M0,-1 L0,1 M-1,-1 L1,1 M-1,1 L1,-1\"/>\n",
       "\t<rect id=\"gpPt3\" stroke-width=\"0.222\" stroke=\"currentColor\" x=\"-1\" y=\"-1\" width=\"2\" height=\"2\"/>\n",
       "\t<rect id=\"gpPt4\" stroke-width=\"0.222\" stroke=\"currentColor\" fill=\"currentColor\" x=\"-1\" y=\"-1\" width=\"2\" height=\"2\"/>\n",
       "\t<circle id=\"gpPt5\" stroke-width=\"0.222\" stroke=\"currentColor\" cx=\"0\" cy=\"0\" r=\"1\"/>\n",
       "\t<use xlink:href=\"#gpPt5\" id=\"gpPt6\" fill=\"currentColor\" stroke=\"none\"/>\n",
       "\t<path id=\"gpPt7\" stroke-width=\"0.222\" stroke=\"currentColor\" d=\"M0,-1.33 L-1.33,0.67 L1.33,0.67 z\"/>\n",
       "\t<use xlink:href=\"#gpPt7\" id=\"gpPt8\" fill=\"currentColor\" stroke=\"none\"/>\n",
       "\t<use xlink:href=\"#gpPt7\" id=\"gpPt9\" stroke=\"currentColor\" transform=\"rotate(180)\"/>\n",
       "\t<use xlink:href=\"#gpPt9\" id=\"gpPt10\" fill=\"currentColor\" stroke=\"none\"/>\n",
       "\t<use xlink:href=\"#gpPt3\" id=\"gpPt11\" stroke=\"currentColor\" transform=\"rotate(45)\"/>\n",
       "\t<use xlink:href=\"#gpPt11\" id=\"gpPt12\" fill=\"currentColor\" stroke=\"none\"/>\n",
       "\t<path id=\"gpPt13\" stroke-width=\"0.222\" stroke=\"currentColor\" d=\"M0,1.330 L1.265,0.411 L0.782,-1.067 L-0.782,-1.076 L-1.265,0.411 z\"/>\n",
       "\t<use xlink:href=\"#gpPt13\" id=\"gpPt14\" fill=\"currentColor\" stroke=\"none\"/>\n",
       "\t<filter id=\"textbox\" filterUnits=\"objectBoundingBox\" x=\"0\" y=\"0\" height=\"1\" width=\"1\">\n",
       "\t  <feFlood flood-color=\"white\" flood-opacity=\"1\" result=\"bgnd\"/>\n",
       "\t  <feComposite in=\"SourceGraphic\" in2=\"bgnd\" operator=\"atop\"/>\n",
       "\t</filter>\n",
       "\t<filter id=\"greybox\" filterUnits=\"objectBoundingBox\" x=\"0\" y=\"0\" height=\"1\" width=\"1\">\n",
       "\t  <feFlood flood-color=\"lightgrey\" flood-opacity=\"1\" result=\"grey\"/>\n",
       "\t  <feComposite in=\"SourceGraphic\" in2=\"grey\" operator=\"atop\"/>\n",
       "\t</filter>\n",
       "</defs>\n",
       "<g fill=\"none\" color=\"white\" stroke=\"currentColor\" stroke-width=\"1.00\" stroke-linecap=\"butt\" stroke-linejoin=\"miter\">\n",
       "</g>\n",
       "<g fill=\"none\" color=\"black\" stroke=\"currentColor\" stroke-width=\"1.00\" stroke-linecap=\"butt\" stroke-linejoin=\"miter\">\n",
       "\t<g stroke=\"none\" shape-rendering=\"crispEdges\">\n",
       "\t\t<polygon fill=\"rgb(255, 255, 255)\" points=\"78.8,384.0 534.9,384.0 534.9,18.2 78.8,18.2 \"/>\n",
       "\t</g>\n",
       "</g>\n",
       "<g fill=\"none\" color=\"black\" stroke=\"currentColor\" stroke-width=\"1.00\" stroke-linecap=\"butt\" stroke-linejoin=\"miter\">\n",
       "\t<path stroke=\"rgb(  0,   0,   0)\" d=\"M78.8,384.0 L91.3,384.0 M535.0,384.0 L522.5,384.0  \"/>\t<g transform=\"translate(70.5,387.3)\" stroke=\"none\" fill=\"rgb(38,38,38)\" font-family=\"Arial\" font-size=\"10.00\" text-anchor=\"end\">\n",
       "\t\t<text><tspan font-family=\"Arial\">-0.0001</tspan></text>\n",
       "\t</g>\n",
       "</g>\n",
       "<g fill=\"none\" color=\"black\" stroke=\"currentColor\" stroke-width=\"1.00\" stroke-linecap=\"butt\" stroke-linejoin=\"miter\">\n",
       "\t<path stroke=\"rgb(  0,   0,   0)\" d=\"M78.8,323.0 L91.3,323.0 M535.0,323.0 L522.5,323.0  \"/>\t<g transform=\"translate(70.5,326.3)\" stroke=\"none\" fill=\"rgb(38,38,38)\" font-family=\"Arial\" font-size=\"10.00\" text-anchor=\"end\">\n",
       "\t\t<text><tspan font-family=\"Arial\">0</tspan></text>\n",
       "\t</g>\n",
       "</g>\n",
       "<g fill=\"none\" color=\"black\" stroke=\"currentColor\" stroke-width=\"1.00\" stroke-linecap=\"butt\" stroke-linejoin=\"miter\">\n",
       "\t<path stroke=\"rgb(  0,   0,   0)\" d=\"M78.8,262.0 L91.3,262.0 M535.0,262.0 L522.5,262.0  \"/>\t<g transform=\"translate(70.5,265.3)\" stroke=\"none\" fill=\"rgb(38,38,38)\" font-family=\"Arial\" font-size=\"10.00\" text-anchor=\"end\">\n",
       "\t\t<text><tspan font-family=\"Arial\">0.0001</tspan></text>\n",
       "\t</g>\n",
       "</g>\n",
       "<g fill=\"none\" color=\"black\" stroke=\"currentColor\" stroke-width=\"1.00\" stroke-linecap=\"butt\" stroke-linejoin=\"miter\">\n",
       "\t<path stroke=\"rgb(  0,   0,   0)\" d=\"M78.8,201.0 L91.3,201.0 M535.0,201.0 L522.5,201.0  \"/>\t<g transform=\"translate(70.5,204.3)\" stroke=\"none\" fill=\"rgb(38,38,38)\" font-family=\"Arial\" font-size=\"10.00\" text-anchor=\"end\">\n",
       "\t\t<text><tspan font-family=\"Arial\">0.0002</tspan></text>\n",
       "\t</g>\n",
       "</g>\n",
       "<g fill=\"none\" color=\"black\" stroke=\"currentColor\" stroke-width=\"1.00\" stroke-linecap=\"butt\" stroke-linejoin=\"miter\">\n",
       "\t<path stroke=\"rgb(  0,   0,   0)\" d=\"M78.8,140.1 L91.3,140.1 M535.0,140.1 L522.5,140.1  \"/>\t<g transform=\"translate(70.5,143.4)\" stroke=\"none\" fill=\"rgb(38,38,38)\" font-family=\"Arial\" font-size=\"10.00\" text-anchor=\"end\">\n",
       "\t\t<text><tspan font-family=\"Arial\">0.0003</tspan></text>\n",
       "\t</g>\n",
       "</g>\n",
       "<g fill=\"none\" color=\"black\" stroke=\"currentColor\" stroke-width=\"1.00\" stroke-linecap=\"butt\" stroke-linejoin=\"miter\">\n",
       "\t<path stroke=\"rgb(  0,   0,   0)\" d=\"M78.8,79.1 L91.3,79.1 M535.0,79.1 L522.5,79.1  \"/>\t<g transform=\"translate(70.5,82.4)\" stroke=\"none\" fill=\"rgb(38,38,38)\" font-family=\"Arial\" font-size=\"10.00\" text-anchor=\"end\">\n",
       "\t\t<text><tspan font-family=\"Arial\">0.0004</tspan></text>\n",
       "\t</g>\n",
       "</g>\n",
       "<g fill=\"none\" color=\"black\" stroke=\"currentColor\" stroke-width=\"1.00\" stroke-linecap=\"butt\" stroke-linejoin=\"miter\">\n",
       "\t<path stroke=\"rgb(  0,   0,   0)\" d=\"M78.8,18.1 L91.3,18.1 M535.0,18.1 L522.5,18.1  \"/>\t<g transform=\"translate(70.5,21.4)\" stroke=\"none\" fill=\"rgb(38,38,38)\" font-family=\"Arial\" font-size=\"10.00\" text-anchor=\"end\">\n",
       "\t\t<text><tspan font-family=\"Arial\">0.0005</tspan></text>\n",
       "\t</g>\n",
       "</g>\n",
       "<g fill=\"none\" color=\"black\" stroke=\"currentColor\" stroke-width=\"1.00\" stroke-linecap=\"butt\" stroke-linejoin=\"miter\">\n",
       "\t<path stroke=\"rgb(  0,   0,   0)\" d=\"M78.8,384.0 L78.8,371.5 M78.8,18.1 L78.8,30.6  \"/>\t<g transform=\"translate(78.8,405.3)\" stroke=\"none\" fill=\"rgb(38,38,38)\" font-family=\"Arial\" font-size=\"10.00\" text-anchor=\"middle\">\n",
       "\t\t<text><tspan font-family=\"Arial\">-0.03</tspan></text>\n",
       "\t</g>\n",
       "</g>\n",
       "<g fill=\"none\" color=\"black\" stroke=\"currentColor\" stroke-width=\"1.00\" stroke-linecap=\"butt\" stroke-linejoin=\"miter\">\n",
       "\t<path stroke=\"rgb(  0,   0,   0)\" d=\"M154.8,384.0 L154.8,371.5 M154.8,18.1 L154.8,30.6  \"/>\t<g transform=\"translate(154.8,405.3)\" stroke=\"none\" fill=\"rgb(38,38,38)\" font-family=\"Arial\" font-size=\"10.00\" text-anchor=\"middle\">\n",
       "\t\t<text><tspan font-family=\"Arial\">-0.02</tspan></text>\n",
       "\t</g>\n",
       "</g>\n",
       "<g fill=\"none\" color=\"black\" stroke=\"currentColor\" stroke-width=\"1.00\" stroke-linecap=\"butt\" stroke-linejoin=\"miter\">\n",
       "\t<path stroke=\"rgb(  0,   0,   0)\" d=\"M230.9,384.0 L230.9,371.5 M230.9,18.1 L230.9,30.6  \"/>\t<g transform=\"translate(230.9,405.3)\" stroke=\"none\" fill=\"rgb(38,38,38)\" font-family=\"Arial\" font-size=\"10.00\" text-anchor=\"middle\">\n",
       "\t\t<text><tspan font-family=\"Arial\">-0.01</tspan></text>\n",
       "\t</g>\n",
       "</g>\n",
       "<g fill=\"none\" color=\"black\" stroke=\"currentColor\" stroke-width=\"1.00\" stroke-linecap=\"butt\" stroke-linejoin=\"miter\">\n",
       "\t<path stroke=\"rgb(  0,   0,   0)\" d=\"M306.9,384.0 L306.9,371.5 M306.9,18.1 L306.9,30.6  \"/>\t<g transform=\"translate(306.9,405.3)\" stroke=\"none\" fill=\"rgb(38,38,38)\" font-family=\"Arial\" font-size=\"10.00\" text-anchor=\"middle\">\n",
       "\t\t<text><tspan font-family=\"Arial\">0</tspan></text>\n",
       "\t</g>\n",
       "</g>\n",
       "<g fill=\"none\" color=\"black\" stroke=\"currentColor\" stroke-width=\"1.00\" stroke-linecap=\"butt\" stroke-linejoin=\"miter\">\n",
       "\t<path stroke=\"rgb(  0,   0,   0)\" d=\"M382.9,384.0 L382.9,371.5 M382.9,18.1 L382.9,30.6  \"/>\t<g transform=\"translate(382.9,405.3)\" stroke=\"none\" fill=\"rgb(38,38,38)\" font-family=\"Arial\" font-size=\"10.00\" text-anchor=\"middle\">\n",
       "\t\t<text><tspan font-family=\"Arial\">0.01</tspan></text>\n",
       "\t</g>\n",
       "</g>\n",
       "<g fill=\"none\" color=\"black\" stroke=\"currentColor\" stroke-width=\"1.00\" stroke-linecap=\"butt\" stroke-linejoin=\"miter\">\n",
       "\t<path stroke=\"rgb(  0,   0,   0)\" d=\"M459.0,384.0 L459.0,371.5 M459.0,18.1 L459.0,30.6  \"/>\t<g transform=\"translate(459.0,405.3)\" stroke=\"none\" fill=\"rgb(38,38,38)\" font-family=\"Arial\" font-size=\"10.00\" text-anchor=\"middle\">\n",
       "\t\t<text><tspan font-family=\"Arial\">0.02</tspan></text>\n",
       "\t</g>\n",
       "</g>\n",
       "<g fill=\"none\" color=\"black\" stroke=\"currentColor\" stroke-width=\"1.00\" stroke-linecap=\"butt\" stroke-linejoin=\"miter\">\n",
       "\t<path stroke=\"rgb(  0,   0,   0)\" d=\"M535.0,384.0 L535.0,371.5 M535.0,18.1 L535.0,30.6  \"/>\t<g transform=\"translate(535.0,405.3)\" stroke=\"none\" fill=\"rgb(38,38,38)\" font-family=\"Arial\" font-size=\"10.00\" text-anchor=\"middle\">\n",
       "\t\t<text><tspan font-family=\"Arial\">0.03</tspan></text>\n",
       "\t</g>\n",
       "</g>\n",
       "<g fill=\"none\" color=\"black\" stroke=\"currentColor\" stroke-width=\"1.00\" stroke-linecap=\"butt\" stroke-linejoin=\"miter\">\n",
       "</g>\n",
       "<g fill=\"none\" color=\"black\" stroke=\"currentColor\" stroke-width=\"1.00\" stroke-linecap=\"butt\" stroke-linejoin=\"miter\">\n",
       "</g>\n",
       "\t<g id=\"gnuplot_plot_1a\"><title>gnuplot_plot_1a</title>\n",
       "<g fill=\"none\" color=\"white\" stroke=\"rgb(  0,   0,   0)\" stroke-width=\"2.00\" stroke-linecap=\"butt\" stroke-linejoin=\"miter\">\n",
       "</g>\n",
       "<g fill=\"none\" color=\"black\" stroke=\"currentColor\" stroke-width=\"2.00\" stroke-linecap=\"butt\" stroke-linejoin=\"miter\">\n",
       "\t<path stroke=\"rgb(  0,   0, 255)\" d=\"M138.6,28.0 L140.3,33.9 L142.0,39.8 L143.7,45.6 L145.3,51.4 L147.0,57.1 L148.7,62.7 L150.4,68.3   L152.1,73.8 L153.8,79.3 L155.4,84.7 L157.1,90.0 L158.8,95.3 L160.5,100.5 L162.2,105.7 L163.9,110.8   L165.5,115.8 L167.2,120.8 L168.9,125.7 L170.6,130.6 L172.3,135.4 L174.0,140.1 L175.6,144.8 L177.3,149.5   L179.0,154.0 L180.7,158.5 L182.4,163.0 L184.0,167.4 L185.7,171.7 L187.4,175.9 L189.1,180.2 L190.8,184.3   L192.5,188.4 L194.1,192.4 L195.8,196.4 L197.5,200.3 L199.2,204.1 L200.9,207.9 L202.6,211.6 L204.2,215.3   L205.9,218.9 L207.6,222.5 L209.3,226.0 L211.0,229.4 L212.7,232.8 L214.3,236.1 L216.0,239.3 L217.7,242.5   L219.4,245.6 L221.1,248.7 L222.8,251.7 L224.4,254.7 L226.1,257.6 L227.8,260.4 L229.5,263.2 L231.2,265.9   L232.9,268.5 L234.5,271.1 L236.2,273.7 L237.9,276.1 L239.6,278.5 L241.3,280.9 L242.9,283.2 L244.6,285.4   L246.3,287.6 L248.0,289.7 L249.7,291.8 L251.4,293.8 L253.0,295.7 L254.7,297.6 L256.4,299.4 L258.1,301.1   L259.8,302.8 L261.5,304.5 L263.1,306.1 L264.8,307.6 L266.5,309.0 L268.2,310.4 L269.9,311.8 L271.6,313.0   L273.2,314.3 L274.9,315.4 L276.6,316.5 L278.3,317.6 L280.0,318.5 L281.7,319.5 L283.3,320.3 L285.0,321.1   L286.7,321.9 L288.4,322.5 L290.1,323.2 L291.8,323.7 L293.4,324.2 L295.1,324.7 L296.8,325.0 L298.5,325.4   L300.2,325.6 L301.9,325.8 L303.5,326.0 L305.2,326.0 L306.9,326.1 L308.6,326.0 L310.3,325.9 L311.9,325.8   L313.6,325.6 L315.3,325.3 L317.0,325.0 L318.7,324.6 L320.4,324.1 L322.0,323.6 L323.7,323.0 L325.4,322.4   L327.1,321.7 L328.8,320.9 L330.5,320.1 L332.1,319.2 L333.8,318.3 L335.5,317.3 L337.2,316.3 L338.9,315.2   L340.6,314.0 L342.2,312.8 L343.9,311.5 L345.6,310.1 L347.3,308.7 L349.0,307.2 L350.7,305.7 L352.3,304.1   L354.0,302.5 L355.7,300.8 L357.4,299.0 L359.1,297.2 L360.8,295.3 L362.4,293.3 L364.1,291.3 L365.8,289.2   L367.5,287.1 L369.2,284.9 L370.9,282.7 L372.5,280.4 L374.2,278.0 L375.9,275.6 L377.6,273.1 L379.3,270.5   L380.9,267.9 L382.6,265.3 L384.3,262.5 L386.0,259.8 L387.7,256.9 L389.4,254.0 L391.0,251.0 L392.7,248.0   L394.4,244.9 L396.1,241.8 L397.8,238.6 L399.5,235.3 L401.1,232.0 L402.8,228.6 L404.5,225.2 L406.2,221.7   L407.9,218.1 L409.6,214.5 L411.2,210.8 L412.9,207.1 L414.6,203.3 L416.3,199.4 L418.0,195.5 L419.7,191.5   L421.3,187.5 L423.0,183.4 L424.7,179.2 L426.4,175.0 L428.1,170.7 L429.8,166.4 L431.4,162.0 L433.1,157.5   L434.8,153.0 L436.5,148.4 L438.2,143.8 L439.8,139.1 L441.5,134.3 L443.2,129.5 L444.9,124.6 L446.6,119.7   L448.3,114.7 L449.9,109.6 L451.6,104.5 L453.3,99.4 L455.0,94.1 L456.7,88.8 L458.4,83.5 L460.0,78.1   L461.7,72.6 L463.4,67.0 L465.1,61.5 L466.8,55.8 L468.5,50.1 L470.1,44.3 L471.8,38.5 L473.5,32.6   L475.2,26.6  \"/></g>\n",
       "\t</g>\n",
       "\t<g id=\"gnuplot_plot_2a\"><title>gnuplot_plot_2a</title>\n",
       "<g fill=\"none\" color=\"black\" stroke=\"currentColor\" stroke-width=\"2.00\" stroke-linecap=\"butt\" stroke-linejoin=\"miter\">\n",
       "\t<path stroke=\"rgb(255,   0,   0)\" d=\"M323.7,355.7 L323.7,26.6  \"/></g>\n",
       "\t</g>\n",
       "\t<g id=\"gnuplot_plot_3a\"><title>gnuplot_plot_3a</title>\n",
       "<g fill=\"none\" color=\"black\" stroke=\"currentColor\" stroke-width=\"2.00\" stroke-linecap=\"butt\" stroke-linejoin=\"miter\">\n",
       "\t<path stroke=\"rgb(  0,   0,   0)\" d=\"M138.6,323.0 L140.3,323.0 L142.0,323.0 L143.7,323.0 L145.3,323.0 L147.0,323.0 L148.7,323.0 L150.4,323.0   L152.1,323.0 L153.8,323.0 L155.4,323.0 L157.1,323.0 L158.8,323.0 L160.5,323.0 L162.2,323.0 L163.9,323.0   L165.5,323.0 L167.2,323.0 L168.9,323.0 L170.6,323.0 L172.3,323.0 L174.0,323.0 L175.6,323.0 L177.3,323.0   L179.0,323.0 L180.7,323.0 L182.4,323.0 L184.0,323.0 L185.7,323.0 L187.4,323.0 L189.1,323.0 L190.8,323.0   L192.5,323.0 L194.1,323.0 L195.8,323.0 L197.5,323.0 L199.2,323.0 L200.9,323.0 L202.6,323.0 L204.2,323.0   L205.9,323.0 L207.6,323.0 L209.3,323.0 L211.0,323.0 L212.7,323.0 L214.3,323.0 L216.0,323.0 L217.7,323.0   L219.4,323.0 L221.1,323.0 L222.8,323.0 L224.4,323.0 L226.1,323.0 L227.8,323.0 L229.5,323.0 L231.2,323.0   L232.9,323.0 L234.5,323.0 L236.2,323.0 L237.9,323.0 L239.6,323.0 L241.3,323.0 L242.9,323.0 L244.6,323.0   L246.3,323.0 L248.0,323.0 L249.7,323.0 L251.4,323.0 L253.0,323.0 L254.7,323.0 L256.4,323.0 L258.1,323.0   L259.8,323.0 L261.5,323.0 L263.1,323.0 L264.8,323.0 L266.5,323.0 L268.2,323.0 L269.9,323.0 L271.6,323.0   L273.2,323.0 L274.9,323.0 L276.6,323.0 L278.3,323.0 L280.0,323.0 L281.7,323.0 L283.3,323.0 L285.0,323.0   L286.7,323.0 L288.4,323.0 L290.1,323.0 L291.8,323.0 L293.4,323.0 L295.1,323.0 L296.8,323.0 L298.5,323.0   L300.2,323.0 L301.9,323.0 L303.5,323.0 L305.2,323.0 L306.9,323.0 L308.6,323.0 L310.3,323.0 L311.9,323.0   L313.6,323.0 L315.3,323.0 L317.0,323.0 L318.7,323.0 L320.4,323.0 L322.0,323.0 L323.7,323.0 L325.4,323.0   L327.1,323.0 L328.8,323.0 L330.5,323.0 L332.1,323.0 L333.8,323.0 L335.5,323.0 L337.2,323.0 L338.9,323.0   L340.6,323.0 L342.2,323.0 L343.9,323.0 L345.6,323.0 L347.3,323.0 L349.0,323.0 L350.7,323.0 L352.3,323.0   L354.0,323.0 L355.7,323.0 L357.4,323.0 L359.1,323.0 L360.8,323.0 L362.4,323.0 L364.1,323.0 L365.8,323.0   L367.5,323.0 L369.2,323.0 L370.9,323.0 L372.5,323.0 L374.2,323.0 L375.9,323.0 L377.6,323.0 L379.3,323.0   L380.9,323.0 L382.6,323.0 L384.3,323.0 L386.0,323.0 L387.7,323.0 L389.4,323.0 L391.0,323.0 L392.7,323.0   L394.4,323.0 L396.1,323.0 L397.8,323.0 L399.5,323.0 L401.1,323.0 L402.8,323.0 L404.5,323.0 L406.2,323.0   L407.9,323.0 L409.6,323.0 L411.2,323.0 L412.9,323.0 L414.6,323.0 L416.3,323.0 L418.0,323.0 L419.7,323.0   L421.3,323.0 L423.0,323.0 L424.7,323.0 L426.4,323.0 L428.1,323.0 L429.8,323.0 L431.4,323.0 L433.1,323.0   L434.8,323.0 L436.5,323.0 L438.2,323.0 L439.8,323.0 L441.5,323.0 L443.2,323.0 L444.9,323.0 L446.6,323.0   L448.3,323.0 L449.9,323.0 L451.6,323.0 L453.3,323.0 L455.0,323.0 L456.7,323.0 L458.4,323.0 L460.0,323.0   L461.7,323.0 L463.4,323.0 L465.1,323.0 L466.8,323.0 L468.5,323.0 L470.1,323.0 L471.8,323.0 L473.5,323.0   L475.2,323.0  \"/></g>\n",
       "\t</g>\n",
       "<g fill=\"none\" color=\"black\" stroke=\"currentColor\" stroke-width=\"2.00\" stroke-linecap=\"butt\" stroke-linejoin=\"miter\">\n",
       "</g>\n",
       "<g fill=\"none\" color=\"black\" stroke=\"black\" stroke-width=\"0.50\" stroke-linecap=\"butt\" stroke-linejoin=\"miter\">\n",
       "\t<path stroke=\"rgb( 38,  38,  38)\" d=\"M78.9,383.9 L535.1,383.9 M78.9,18.0 L535.1,18.0 M78.9,383.9 L78.9,18.0 M535.1,383.9 L535.1,18.0    \"/></g>\n",
       "<g fill=\"none\" color=\"black\" stroke=\"rgb( 38,  38,  38)\" stroke-width=\"1.00\" stroke-linecap=\"butt\" stroke-linejoin=\"miter\">\n",
       "</g>\n",
       "<g fill=\"none\" color=\"black\" stroke=\"currentColor\" stroke-width=\"1.00\" stroke-linecap=\"butt\" stroke-linejoin=\"miter\">\n",
       "</g>\n",
       "</g>\n",
       "</svg>"
      ],
      "text/plain": [
       "<IPython.core.display.SVG object>"
      ]
     },
     "metadata": {},
     "output_type": "display_data"
    }
   ],
   "source": [
    "%plot -s 600,500 -f 'svg'\n",
    "\n",
    "x=[-10*t:t/10:t*10];\n",
    "y=a*x.^2+b.*x+c;\n",
    "\n",
    "plot(x,y,'b-','linewidth',2)\n",
    "hold on\n",
    "plot([t t],[min(y)-0.1*max(y) max(y)],'r','linewidth',2)\n",
    "plot(x,zeros(size(x)),'k','linewidth',2)"
   ]
  },
  {
   "cell_type": "code",
   "execution_count": null,
   "metadata": {},
   "outputs": [],
   "source": []
  }
 ],
 "metadata": {
  "kernelspec": {
   "display_name": "Octave",
   "language": "octave",
   "name": "octave"
  },
  "language_info": {
   "file_extension": ".m",
   "help_links": [
    {
     "text": "GNU Octave",
     "url": "https://www.gnu.org/software/octave/support.html"
    },
    {
     "text": "Octave Kernel",
     "url": "https://github.com/Calysto/octave_kernel"
    },
    {
     "text": "MetaKernel Magics",
     "url": "https://metakernel.readthedocs.io/en/latest/source/README.html"
    }
   ],
   "mimetype": "text/x-octave",
   "name": "octave",
   "version": "5.2.0"
  }
 },
 "nbformat": 4,
 "nbformat_minor": 2
}
