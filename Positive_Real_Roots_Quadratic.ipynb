{
 "cells": [
  {
   "cell_type": "code",
   "execution_count": 1,
   "metadata": {},
   "outputs": [],
   "source": [
    "% some housekeeping stuff\n",
    "register_graphics_toolkit (\"gnuplot\");\n",
    "available_graphics_toolkits ();\n",
    "graphics_toolkit (\"gnuplot\")\n",
    "clear\n",
    "% end of housekeeping"
   ]
  },
  {
   "cell_type": "markdown",
   "metadata": {},
   "source": [
    "# Roots of a quadratic equation\n",
    "\n",
    "The general form of a quadratic equation is :\n",
    "\n",
    "$ax^2 + bx+c=0$\n",
    "\n",
    "it is possible to solve for the roots (x values where y=0) using the quadratic equation.  You can also solve numerically using this script.  Just input the values for a, b and c in the code below.\n",
    "\n",
    "This might be useful for doing assignments in CH261"
   ]
  },
  {
   "cell_type": "code",
   "execution_count": 2,
   "metadata": {},
   "outputs": [
    {
     "name": "stdout",
     "output_type": "stream",
     "text": [
      "t =  0.000000090499\n",
      "pt =  7.0434\n"
     ]
    }
   ],
   "source": [
    "%plot -s 600,500 -f 'svg'\n",
    "a=1;\n",
    "b=2e-8;\n",
    "c=-1.00e-14;\n",
    "t=roots([a b c]); %finds the roots\n",
    "t(imag(t)==0); %sets any imaginary roots to zero\n",
    "% display the positive real root\n",
    "\n",
    "t=t(t>0)\n",
    "\n",
    "% take minus log in case that might be useful (pH for example)\n",
    "\n",
    "pt=-log10(t)"
   ]
  },
  {
   "cell_type": "code",
   "execution_count": 3,
   "metadata": {},
   "outputs": [
    {
     "data": {
      "image/svg+xml": [
       "<svg xmlns=\"http://www.w3.org/2000/svg\" xmlns:xlink=\"http://www.w3.org/1999/xlink\" width=\"600px\" height=\"500px\" viewBox=\"0 0 560 420\">\n",
       "\n",
       "<title>Gnuplot</title>\n",
       "<desc>Produced by GNUPLOT 5.4 patchlevel 0 </desc>\n",
       "\n",
       "<g id=\"gnuplot_canvas\">\n",
       "\n",
       "<rect x=\"0\" y=\"0\" width=\"560\" height=\"420\" fill=\"none\"/>\n",
       "<defs>\n",
       "\n",
       "\t<circle id=\"gpDot\" r=\"0.5\" stroke-width=\"0.5\" stroke=\"currentColor\"/>\n",
       "\t<path id=\"gpPt0\" stroke-width=\"0.222\" stroke=\"currentColor\" d=\"M-1,0 h2 M0,-1 v2\"/>\n",
       "\t<path id=\"gpPt1\" stroke-width=\"0.222\" stroke=\"currentColor\" d=\"M-1,-1 L1,1 M1,-1 L-1,1\"/>\n",
       "\t<path id=\"gpPt2\" stroke-width=\"0.222\" stroke=\"currentColor\" d=\"M-1,0 L1,0 M0,-1 L0,1 M-1,-1 L1,1 M-1,1 L1,-1\"/>\n",
       "\t<rect id=\"gpPt3\" stroke-width=\"0.222\" stroke=\"currentColor\" x=\"-1\" y=\"-1\" width=\"2\" height=\"2\"/>\n",
       "\t<rect id=\"gpPt4\" stroke-width=\"0.222\" stroke=\"currentColor\" fill=\"currentColor\" x=\"-1\" y=\"-1\" width=\"2\" height=\"2\"/>\n",
       "\t<circle id=\"gpPt5\" stroke-width=\"0.222\" stroke=\"currentColor\" cx=\"0\" cy=\"0\" r=\"1\"/>\n",
       "\t<use xlink:href=\"#gpPt5\" id=\"gpPt6\" fill=\"currentColor\" stroke=\"none\"/>\n",
       "\t<path id=\"gpPt7\" stroke-width=\"0.222\" stroke=\"currentColor\" d=\"M0,-1.33 L-1.33,0.67 L1.33,0.67 z\"/>\n",
       "\t<use xlink:href=\"#gpPt7\" id=\"gpPt8\" fill=\"currentColor\" stroke=\"none\"/>\n",
       "\t<use xlink:href=\"#gpPt7\" id=\"gpPt9\" stroke=\"currentColor\" transform=\"rotate(180)\"/>\n",
       "\t<use xlink:href=\"#gpPt9\" id=\"gpPt10\" fill=\"currentColor\" stroke=\"none\"/>\n",
       "\t<use xlink:href=\"#gpPt3\" id=\"gpPt11\" stroke=\"currentColor\" transform=\"rotate(45)\"/>\n",
       "\t<use xlink:href=\"#gpPt11\" id=\"gpPt12\" fill=\"currentColor\" stroke=\"none\"/>\n",
       "\t<path id=\"gpPt13\" stroke-width=\"0.222\" stroke=\"currentColor\" d=\"M0,1.330 L1.265,0.411 L0.782,-1.067 L-0.782,-1.076 L-1.265,0.411 z\"/>\n",
       "\t<use xlink:href=\"#gpPt13\" id=\"gpPt14\" fill=\"currentColor\" stroke=\"none\"/>\n",
       "\t<filter id=\"textbox\" filterUnits=\"objectBoundingBox\" x=\"0\" y=\"0\" height=\"1\" width=\"1\">\n",
       "\t  <feFlood flood-color=\"white\" flood-opacity=\"1\" result=\"bgnd\"/>\n",
       "\t  <feComposite in=\"SourceGraphic\" in2=\"bgnd\" operator=\"atop\"/>\n",
       "\t</filter>\n",
       "\t<filter id=\"greybox\" filterUnits=\"objectBoundingBox\" x=\"0\" y=\"0\" height=\"1\" width=\"1\">\n",
       "\t  <feFlood flood-color=\"lightgrey\" flood-opacity=\"1\" result=\"grey\"/>\n",
       "\t  <feComposite in=\"SourceGraphic\" in2=\"grey\" operator=\"atop\"/>\n",
       "\t</filter>\n",
       "</defs>\n",
       "<g fill=\"none\" color=\"white\" stroke=\"currentColor\" stroke-width=\"1.00\" stroke-linecap=\"butt\" stroke-linejoin=\"miter\">\n",
       "</g>\n",
       "<g fill=\"none\" color=\"black\" stroke=\"currentColor\" stroke-width=\"1.00\" stroke-linecap=\"butt\" stroke-linejoin=\"miter\">\n",
       "\t<g stroke=\"none\" shape-rendering=\"crispEdges\">\n",
       "\t\t<polygon fill=\"rgb(255, 255, 255)\" points=\"70.5,384.0 530.9,384.0 530.9,18.2 70.5,18.2 \"/>\n",
       "\t</g>\n",
       "</g>\n",
       "<g fill=\"none\" color=\"black\" stroke=\"currentColor\" stroke-width=\"1.00\" stroke-linecap=\"butt\" stroke-linejoin=\"miter\">\n",
       "\t<path stroke=\"rgb(  0,   0,   0)\" d=\"M70.5,384.0 L83.0,384.0 M531.0,384.0 L518.5,384.0  \"/>\t<g transform=\"translate(62.2,387.3)\" stroke=\"none\" fill=\"rgb(38,38,38)\" font-family=\"Arial\" font-size=\"10.00\" text-anchor=\"end\">\n",
       "\t\t<text><tspan font-family=\"Arial\">-2e-13</tspan></text>\n",
       "\t</g>\n",
       "</g>\n",
       "<g fill=\"none\" color=\"black\" stroke=\"currentColor\" stroke-width=\"1.00\" stroke-linecap=\"butt\" stroke-linejoin=\"miter\">\n",
       "\t<path stroke=\"rgb(  0,   0,   0)\" d=\"M70.5,323.0 L83.0,323.0 M531.0,323.0 L518.5,323.0  \"/>\t<g transform=\"translate(62.2,326.3)\" stroke=\"none\" fill=\"rgb(38,38,38)\" font-family=\"Arial\" font-size=\"10.00\" text-anchor=\"end\">\n",
       "\t\t<text><tspan font-family=\"Arial\">0</tspan></text>\n",
       "\t</g>\n",
       "</g>\n",
       "<g fill=\"none\" color=\"black\" stroke=\"currentColor\" stroke-width=\"1.00\" stroke-linecap=\"butt\" stroke-linejoin=\"miter\">\n",
       "\t<path stroke=\"rgb(  0,   0,   0)\" d=\"M70.5,262.0 L83.0,262.0 M531.0,262.0 L518.5,262.0  \"/>\t<g transform=\"translate(62.2,265.3)\" stroke=\"none\" fill=\"rgb(38,38,38)\" font-family=\"Arial\" font-size=\"10.00\" text-anchor=\"end\">\n",
       "\t\t<text><tspan font-family=\"Arial\">2e-13</tspan></text>\n",
       "\t</g>\n",
       "</g>\n",
       "<g fill=\"none\" color=\"black\" stroke=\"currentColor\" stroke-width=\"1.00\" stroke-linecap=\"butt\" stroke-linejoin=\"miter\">\n",
       "\t<path stroke=\"rgb(  0,   0,   0)\" d=\"M70.5,201.0 L83.0,201.0 M531.0,201.0 L518.5,201.0  \"/>\t<g transform=\"translate(62.2,204.3)\" stroke=\"none\" fill=\"rgb(38,38,38)\" font-family=\"Arial\" font-size=\"10.00\" text-anchor=\"end\">\n",
       "\t\t<text><tspan font-family=\"Arial\">4e-13</tspan></text>\n",
       "\t</g>\n",
       "</g>\n",
       "<g fill=\"none\" color=\"black\" stroke=\"currentColor\" stroke-width=\"1.00\" stroke-linecap=\"butt\" stroke-linejoin=\"miter\">\n",
       "\t<path stroke=\"rgb(  0,   0,   0)\" d=\"M70.5,140.1 L83.0,140.1 M531.0,140.1 L518.5,140.1  \"/>\t<g transform=\"translate(62.2,143.4)\" stroke=\"none\" fill=\"rgb(38,38,38)\" font-family=\"Arial\" font-size=\"10.00\" text-anchor=\"end\">\n",
       "\t\t<text><tspan font-family=\"Arial\">6e-13</tspan></text>\n",
       "\t</g>\n",
       "</g>\n",
       "<g fill=\"none\" color=\"black\" stroke=\"currentColor\" stroke-width=\"1.00\" stroke-linecap=\"butt\" stroke-linejoin=\"miter\">\n",
       "\t<path stroke=\"rgb(  0,   0,   0)\" d=\"M70.5,79.1 L83.0,79.1 M531.0,79.1 L518.5,79.1  \"/>\t<g transform=\"translate(62.2,82.4)\" stroke=\"none\" fill=\"rgb(38,38,38)\" font-family=\"Arial\" font-size=\"10.00\" text-anchor=\"end\">\n",
       "\t\t<text><tspan font-family=\"Arial\">8e-13</tspan></text>\n",
       "\t</g>\n",
       "</g>\n",
       "<g fill=\"none\" color=\"black\" stroke=\"currentColor\" stroke-width=\"1.00\" stroke-linecap=\"butt\" stroke-linejoin=\"miter\">\n",
       "\t<path stroke=\"rgb(  0,   0,   0)\" d=\"M70.5,18.1 L83.0,18.1 M531.0,18.1 L518.5,18.1  \"/>\t<g transform=\"translate(62.2,21.4)\" stroke=\"none\" fill=\"rgb(38,38,38)\" font-family=\"Arial\" font-size=\"10.00\" text-anchor=\"end\">\n",
       "\t\t<text><tspan font-family=\"Arial\">1e-12</tspan></text>\n",
       "\t</g>\n",
       "</g>\n",
       "<g fill=\"none\" color=\"black\" stroke=\"currentColor\" stroke-width=\"1.00\" stroke-linecap=\"butt\" stroke-linejoin=\"miter\">\n",
       "\t<path stroke=\"rgb(  0,   0,   0)\" d=\"M70.5,384.0 L70.5,371.5 M70.5,18.1 L70.5,30.6  \"/>\t<g transform=\"translate(70.5,405.3)\" stroke=\"none\" fill=\"rgb(38,38,38)\" font-family=\"Arial\" font-size=\"10.00\" text-anchor=\"middle\">\n",
       "\t\t<text><tspan font-family=\"Arial\">-1e-06</tspan></text>\n",
       "\t</g>\n",
       "</g>\n",
       "<g fill=\"none\" color=\"black\" stroke=\"currentColor\" stroke-width=\"1.00\" stroke-linecap=\"butt\" stroke-linejoin=\"miter\">\n",
       "\t<path stroke=\"rgb(  0,   0,   0)\" d=\"M185.6,384.0 L185.6,371.5 M185.6,18.1 L185.6,30.6  \"/>\t<g transform=\"translate(185.6,405.3)\" stroke=\"none\" fill=\"rgb(38,38,38)\" font-family=\"Arial\" font-size=\"10.00\" text-anchor=\"middle\">\n",
       "\t\t<text><tspan font-family=\"Arial\">-5e-07</tspan></text>\n",
       "\t</g>\n",
       "</g>\n",
       "<g fill=\"none\" color=\"black\" stroke=\"currentColor\" stroke-width=\"1.00\" stroke-linecap=\"butt\" stroke-linejoin=\"miter\">\n",
       "\t<path stroke=\"rgb(  0,   0,   0)\" d=\"M300.8,384.0 L300.8,371.5 M300.8,18.1 L300.8,30.6  \"/>\t<g transform=\"translate(300.8,405.3)\" stroke=\"none\" fill=\"rgb(38,38,38)\" font-family=\"Arial\" font-size=\"10.00\" text-anchor=\"middle\">\n",
       "\t\t<text><tspan font-family=\"Arial\">0</tspan></text>\n",
       "\t</g>\n",
       "</g>\n",
       "<g fill=\"none\" color=\"black\" stroke=\"currentColor\" stroke-width=\"1.00\" stroke-linecap=\"butt\" stroke-linejoin=\"miter\">\n",
       "\t<path stroke=\"rgb(  0,   0,   0)\" d=\"M415.9,384.0 L415.9,371.5 M415.9,18.1 L415.9,30.6  \"/>\t<g transform=\"translate(415.9,405.3)\" stroke=\"none\" fill=\"rgb(38,38,38)\" font-family=\"Arial\" font-size=\"10.00\" text-anchor=\"middle\">\n",
       "\t\t<text><tspan font-family=\"Arial\">5e-07</tspan></text>\n",
       "\t</g>\n",
       "</g>\n",
       "<g fill=\"none\" color=\"black\" stroke=\"currentColor\" stroke-width=\"1.00\" stroke-linecap=\"butt\" stroke-linejoin=\"miter\">\n",
       "\t<path stroke=\"rgb(  0,   0,   0)\" d=\"M531.0,384.0 L531.0,371.5 M531.0,18.1 L531.0,30.6  \"/>\t<g transform=\"translate(531.0,405.3)\" stroke=\"none\" fill=\"rgb(38,38,38)\" font-family=\"Arial\" font-size=\"10.00\" text-anchor=\"middle\">\n",
       "\t\t<text><tspan font-family=\"Arial\">1e-06</tspan></text>\n",
       "\t</g>\n",
       "</g>\n",
       "<g fill=\"none\" color=\"black\" stroke=\"currentColor\" stroke-width=\"1.00\" stroke-linecap=\"butt\" stroke-linejoin=\"miter\">\n",
       "</g>\n",
       "<g fill=\"none\" color=\"black\" stroke=\"currentColor\" stroke-width=\"1.00\" stroke-linecap=\"butt\" stroke-linejoin=\"miter\">\n",
       "</g>\n",
       "\t<g id=\"gnuplot_plot_1a\"><title>gnuplot_plot_1a</title>\n",
       "<g fill=\"none\" color=\"white\" stroke=\"rgb(  0,   0,   0)\" stroke-width=\"2.00\" stroke-linecap=\"butt\" stroke-linejoin=\"miter\">\n",
       "</g>\n",
       "<g fill=\"none\" color=\"black\" stroke=\"currentColor\" stroke-width=\"2.00\" stroke-linecap=\"butt\" stroke-linejoin=\"miter\">\n",
       "\t<path stroke=\"rgb(  0,   0, 255)\" d=\"M92.4,81.9 L94.5,86.8 L96.5,91.6 L98.6,96.5 L100.7,101.2 L102.8,105.9 L104.9,110.6 L107.0,115.2   L109.0,119.8 L111.1,124.3 L113.2,128.8 L115.3,133.2 L117.4,137.5 L119.5,141.8 L121.5,146.1 L123.6,150.3   L125.7,154.5 L127.8,158.6 L129.9,162.7 L132.0,166.7 L134.1,170.7 L136.1,174.6 L138.2,178.4 L140.3,182.3   L142.4,186.0 L144.5,189.7 L146.6,193.4 L148.6,197.0 L150.7,200.6 L152.8,204.1 L154.9,207.6 L157.0,211.0   L159.1,214.3 L161.1,217.7 L163.2,220.9 L165.3,224.1 L167.4,227.3 L169.5,230.4 L171.6,233.5 L173.6,236.5   L175.7,239.5 L177.8,242.4 L179.9,245.3 L182.0,248.1 L184.1,250.8 L186.1,253.6 L188.2,256.2 L190.3,258.8   L192.4,261.4 L194.5,263.9 L196.6,266.4 L198.6,268.8 L200.7,271.2 L202.8,273.5 L204.9,275.8 L207.0,278.0   L209.1,280.1 L211.1,282.3 L213.2,284.3 L215.3,286.3 L217.4,288.3 L219.5,290.2 L221.6,292.1 L223.7,293.9   L225.7,295.7 L227.8,297.4 L229.9,299.1 L232.0,300.7 L234.1,302.3 L236.2,303.8 L238.2,305.2 L240.3,306.7   L242.4,308.0 L244.5,309.4 L246.6,310.6 L248.7,311.8 L250.7,313.0 L252.8,314.1 L254.9,315.2 L257.0,316.2   L259.1,317.2 L261.2,318.1 L263.2,319.0 L265.3,319.8 L267.4,320.6 L269.5,321.3 L271.6,321.9 L273.7,322.6   L275.7,323.1 L277.8,323.7 L279.9,324.1 L282.0,324.5 L284.1,324.9 L286.2,325.2 L288.2,325.5 L290.3,325.7   L292.4,325.9 L294.5,326.0 L296.6,326.1 L298.7,326.1 L300.8,326.1 L302.8,326.0 L304.9,325.9 L307.0,325.7   L309.1,325.4 L311.2,325.2 L313.3,324.8 L315.3,324.5 L317.4,324.0 L319.5,323.5 L321.6,323.0 L323.7,322.4   L325.8,321.8 L327.8,321.1 L329.9,320.4 L332.0,319.6 L334.1,318.8 L336.2,317.9 L338.3,317.0 L340.3,316.0   L342.4,315.0 L344.5,313.9 L346.6,312.8 L348.7,311.6 L350.8,310.4 L352.8,309.1 L354.9,307.7 L357.0,306.4   L359.1,304.9 L361.2,303.5 L363.3,301.9 L365.3,300.4 L367.4,298.7 L369.5,297.0 L371.6,295.3 L373.7,293.5   L375.8,291.7 L377.8,289.8 L379.9,287.9 L382.0,285.9 L384.1,283.9 L386.2,281.8 L388.3,279.7 L390.4,277.5   L392.4,275.3 L394.5,273.0 L396.6,270.7 L398.7,268.3 L400.8,265.9 L402.9,263.4 L404.9,260.9 L407.0,258.3   L409.1,255.7 L411.2,253.0 L413.3,250.3 L415.4,247.5 L417.4,244.7 L419.5,241.8 L421.6,238.9 L423.7,235.9   L425.8,232.9 L427.9,229.8 L429.9,226.6 L432.0,223.5 L434.1,220.2 L436.2,217.0 L438.3,213.6 L440.4,210.3   L442.4,206.8 L444.5,203.4 L446.6,199.8 L448.7,196.3 L450.8,192.6 L452.9,189.0 L454.9,185.2 L457.0,181.5   L459.1,177.6 L461.2,173.8 L463.3,169.8 L465.4,165.9 L467.4,161.8 L469.5,157.7 L471.6,153.6 L473.7,149.4   L475.8,145.2 L477.9,140.9 L480.0,136.6 L482.0,132.2 L484.1,127.8 L486.2,123.3 L488.3,118.8 L490.4,114.2   L492.5,109.6 L494.5,104.9 L496.6,100.2 L498.7,95.4 L500.8,90.6 L502.9,85.7 L505.0,80.8 L507.0,75.8   L509.1,70.8  \"/></g>\n",
       "\t</g>\n",
       "\t<g id=\"gnuplot_plot_2a\"><title>gnuplot_plot_2a</title>\n",
       "<g fill=\"none\" color=\"black\" stroke=\"currentColor\" stroke-width=\"2.00\" stroke-linecap=\"butt\" stroke-linejoin=\"miter\">\n",
       "\t<path stroke=\"rgb(255,   0,   0)\" d=\"M321.6,351.3 L321.6,70.8  \"/></g>\n",
       "\t</g>\n",
       "\t<g id=\"gnuplot_plot_3a\"><title>gnuplot_plot_3a</title>\n",
       "<g fill=\"none\" color=\"black\" stroke=\"currentColor\" stroke-width=\"2.00\" stroke-linecap=\"butt\" stroke-linejoin=\"miter\">\n",
       "\t<path stroke=\"rgb(  0,   0,   0)\" d=\"M92.4,323.0 L94.5,323.0 L96.5,323.0 L98.6,323.0 L100.7,323.0 L102.8,323.0 L104.9,323.0 L107.0,323.0   L109.0,323.0 L111.1,323.0 L113.2,323.0 L115.3,323.0 L117.4,323.0 L119.5,323.0 L121.5,323.0 L123.6,323.0   L125.7,323.0 L127.8,323.0 L129.9,323.0 L132.0,323.0 L134.1,323.0 L136.1,323.0 L138.2,323.0 L140.3,323.0   L142.4,323.0 L144.5,323.0 L146.6,323.0 L148.6,323.0 L150.7,323.0 L152.8,323.0 L154.9,323.0 L157.0,323.0   L159.1,323.0 L161.1,323.0 L163.2,323.0 L165.3,323.0 L167.4,323.0 L169.5,323.0 L171.6,323.0 L173.6,323.0   L175.7,323.0 L177.8,323.0 L179.9,323.0 L182.0,323.0 L184.1,323.0 L186.1,323.0 L188.2,323.0 L190.3,323.0   L192.4,323.0 L194.5,323.0 L196.6,323.0 L198.6,323.0 L200.7,323.0 L202.8,323.0 L204.9,323.0 L207.0,323.0   L209.1,323.0 L211.1,323.0 L213.2,323.0 L215.3,323.0 L217.4,323.0 L219.5,323.0 L221.6,323.0 L223.7,323.0   L225.7,323.0 L227.8,323.0 L229.9,323.0 L232.0,323.0 L234.1,323.0 L236.2,323.0 L238.2,323.0 L240.3,323.0   L242.4,323.0 L244.5,323.0 L246.6,323.0 L248.7,323.0 L250.7,323.0 L252.8,323.0 L254.9,323.0 L257.0,323.0   L259.1,323.0 L261.2,323.0 L263.2,323.0 L265.3,323.0 L267.4,323.0 L269.5,323.0 L271.6,323.0 L273.7,323.0   L275.7,323.0 L277.8,323.0 L279.9,323.0 L282.0,323.0 L284.1,323.0 L286.2,323.0 L288.2,323.0 L290.3,323.0   L292.4,323.0 L294.5,323.0 L296.6,323.0 L298.7,323.0 L300.8,323.0 L302.8,323.0 L304.9,323.0 L307.0,323.0   L309.1,323.0 L311.2,323.0 L313.3,323.0 L315.3,323.0 L317.4,323.0 L319.5,323.0 L321.6,323.0 L323.7,323.0   L325.8,323.0 L327.8,323.0 L329.9,323.0 L332.0,323.0 L334.1,323.0 L336.2,323.0 L338.3,323.0 L340.3,323.0   L342.4,323.0 L344.5,323.0 L346.6,323.0 L348.7,323.0 L350.8,323.0 L352.8,323.0 L354.9,323.0 L357.0,323.0   L359.1,323.0 L361.2,323.0 L363.3,323.0 L365.3,323.0 L367.4,323.0 L369.5,323.0 L371.6,323.0 L373.7,323.0   L375.8,323.0 L377.8,323.0 L379.9,323.0 L382.0,323.0 L384.1,323.0 L386.2,323.0 L388.3,323.0 L390.4,323.0   L392.4,323.0 L394.5,323.0 L396.6,323.0 L398.7,323.0 L400.8,323.0 L402.9,323.0 L404.9,323.0 L407.0,323.0   L409.1,323.0 L411.2,323.0 L413.3,323.0 L415.4,323.0 L417.4,323.0 L419.5,323.0 L421.6,323.0 L423.7,323.0   L425.8,323.0 L427.9,323.0 L429.9,323.0 L432.0,323.0 L434.1,323.0 L436.2,323.0 L438.3,323.0 L440.4,323.0   L442.4,323.0 L444.5,323.0 L446.6,323.0 L448.7,323.0 L450.8,323.0 L452.9,323.0 L454.9,323.0 L457.0,323.0   L459.1,323.0 L461.2,323.0 L463.3,323.0 L465.4,323.0 L467.4,323.0 L469.5,323.0 L471.6,323.0 L473.7,323.0   L475.8,323.0 L477.9,323.0 L480.0,323.0 L482.0,323.0 L484.1,323.0 L486.2,323.0 L488.3,323.0 L490.4,323.0   L492.5,323.0 L494.5,323.0 L496.6,323.0 L498.7,323.0 L500.8,323.0 L502.9,323.0 L505.0,323.0 L507.0,323.0   L509.1,323.0  \"/></g>\n",
       "\t</g>\n",
       "<g fill=\"none\" color=\"black\" stroke=\"currentColor\" stroke-width=\"2.00\" stroke-linecap=\"butt\" stroke-linejoin=\"miter\">\n",
       "</g>\n",
       "<g fill=\"none\" color=\"black\" stroke=\"black\" stroke-width=\"0.50\" stroke-linecap=\"butt\" stroke-linejoin=\"miter\">\n",
       "\t<path stroke=\"rgb( 38,  38,  38)\" d=\"M70.6,383.9 L531.1,383.9 M70.6,18.0 L531.1,18.0 M70.6,383.9 L70.6,18.0 M531.1,383.9 L531.1,18.0    \"/></g>\n",
       "<g fill=\"none\" color=\"black\" stroke=\"rgb( 38,  38,  38)\" stroke-width=\"1.00\" stroke-linecap=\"butt\" stroke-linejoin=\"miter\">\n",
       "</g>\n",
       "<g fill=\"none\" color=\"black\" stroke=\"currentColor\" stroke-width=\"1.00\" stroke-linecap=\"butt\" stroke-linejoin=\"miter\">\n",
       "</g>\n",
       "</g>\n",
       "</svg>"
      ],
      "text/plain": [
       "<IPython.core.display.SVG object>"
      ]
     },
     "metadata": {},
     "output_type": "display_data"
    }
   ],
   "source": [
    "%plot -s 600,500 -f 'svg'\n",
    "\n",
    "x=[-10*t:t/10:t*10];\n",
    "y=a*x.^2+b.*x+c;\n",
    "\n",
    "plot(x,y,'b-','linewidth',2)\n",
    "hold on\n",
    "plot([t t],[min(y)-0.1*max(y) max(y)],'r','linewidth',2)\n",
    "plot(x,zeros(size(x)),'k','linewidth',2)"
   ]
  },
  {
   "cell_type": "code",
   "execution_count": null,
   "metadata": {},
   "outputs": [],
   "source": []
  }
 ],
 "metadata": {
  "kernelspec": {
   "display_name": "Octave",
   "language": "octave",
   "name": "octave"
  },
  "language_info": {
   "file_extension": ".m",
   "help_links": [
    {
     "text": "GNU Octave",
     "url": "https://www.gnu.org/software/octave/support.html"
    },
    {
     "text": "Octave Kernel",
     "url": "https://github.com/Calysto/octave_kernel"
    },
    {
     "text": "MetaKernel Magics",
     "url": "https://metakernel.readthedocs.io/en/latest/source/README.html"
    }
   ],
   "mimetype": "text/x-octave",
   "name": "octave",
   "version": "5.2.0"
  }
 },
 "nbformat": 4,
 "nbformat_minor": 2
}
