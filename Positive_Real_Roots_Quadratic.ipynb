{
 "cells": [
  {
   "cell_type": "code",
   "execution_count": 10,
   "metadata": {},
   "outputs": [],
   "source": [
    "% some housekeeping stuff\n",
    "register_graphics_toolkit (\"gnuplot\");\n",
    "available_graphics_toolkits ();\n",
    "graphics_toolkit (\"gnuplot\")\n",
    "clear\n",
    "% end of housekeeping"
   ]
  },
  {
   "cell_type": "markdown",
   "metadata": {},
   "source": [
    "# Roots of a quadratic equation\n",
    "\n",
    "The general form of a quadratic equation is :\n",
    "\n",
    "$ax^2 + bx+c=0$\n",
    "\n",
    "it is possible to solve for the roots (x values where y=0) using the quadratic equation.  You can also solve numerically using this script.  Just input the values for a, b and c in the code below.\n",
    "\n",
    "This might be useful for doing assignments in CH261"
   ]
  },
  {
   "cell_type": "code",
   "execution_count": 11,
   "metadata": {},
   "outputs": [
    {
     "name": "stdout",
     "output_type": "stream",
     "text": [
      "t =  0.00000024142\n",
      "pt =  6.6172\n"
     ]
    }
   ],
   "source": [
    "%plot -s 600,500 -f 'svg'\n",
    "a=1;\n",
    "b=-20e-8;\n",
    "c=-1.00e-14;\n",
    "t=roots([a b c]); %finds the roots\n",
    "t(imag(t)==0); %sets any imaginary roots to zero\n",
    "% display the positive real root\n",
    "\n",
    "t=t(t>0)\n",
    "\n",
    "% take minus log in case that might be useful (pH for example)\n",
    "\n",
    "pt=-log10(t)"
   ]
  },
  {
   "cell_type": "code",
   "execution_count": 12,
   "metadata": {},
   "outputs": [
    {
     "data": {
      "image/svg+xml": [
       "<svg xmlns=\"http://www.w3.org/2000/svg\" xmlns:xlink=\"http://www.w3.org/1999/xlink\" width=\"600px\" height=\"500px\" viewBox=\"0 0 560 420\">\n",
       "\n",
       "<title>Gnuplot</title>\n",
       "<desc>Produced by GNUPLOT 5.4 patchlevel 0 </desc>\n",
       "\n",
       "<g id=\"gnuplot_canvas\">\n",
       "\n",
       "<rect x=\"0\" y=\"0\" width=\"560\" height=\"420\" fill=\"none\"/>\n",
       "<defs>\n",
       "\n",
       "\t<circle id=\"gpDot\" r=\"0.5\" stroke-width=\"0.5\" stroke=\"currentColor\"/>\n",
       "\t<path id=\"gpPt0\" stroke-width=\"0.222\" stroke=\"currentColor\" d=\"M-1,0 h2 M0,-1 v2\"/>\n",
       "\t<path id=\"gpPt1\" stroke-width=\"0.222\" stroke=\"currentColor\" d=\"M-1,-1 L1,1 M1,-1 L-1,1\"/>\n",
       "\t<path id=\"gpPt2\" stroke-width=\"0.222\" stroke=\"currentColor\" d=\"M-1,0 L1,0 M0,-1 L0,1 M-1,-1 L1,1 M-1,1 L1,-1\"/>\n",
       "\t<rect id=\"gpPt3\" stroke-width=\"0.222\" stroke=\"currentColor\" x=\"-1\" y=\"-1\" width=\"2\" height=\"2\"/>\n",
       "\t<rect id=\"gpPt4\" stroke-width=\"0.222\" stroke=\"currentColor\" fill=\"currentColor\" x=\"-1\" y=\"-1\" width=\"2\" height=\"2\"/>\n",
       "\t<circle id=\"gpPt5\" stroke-width=\"0.222\" stroke=\"currentColor\" cx=\"0\" cy=\"0\" r=\"1\"/>\n",
       "\t<use xlink:href=\"#gpPt5\" id=\"gpPt6\" fill=\"currentColor\" stroke=\"none\"/>\n",
       "\t<path id=\"gpPt7\" stroke-width=\"0.222\" stroke=\"currentColor\" d=\"M0,-1.33 L-1.33,0.67 L1.33,0.67 z\"/>\n",
       "\t<use xlink:href=\"#gpPt7\" id=\"gpPt8\" fill=\"currentColor\" stroke=\"none\"/>\n",
       "\t<use xlink:href=\"#gpPt7\" id=\"gpPt9\" stroke=\"currentColor\" transform=\"rotate(180)\"/>\n",
       "\t<use xlink:href=\"#gpPt9\" id=\"gpPt10\" fill=\"currentColor\" stroke=\"none\"/>\n",
       "\t<use xlink:href=\"#gpPt3\" id=\"gpPt11\" stroke=\"currentColor\" transform=\"rotate(45)\"/>\n",
       "\t<use xlink:href=\"#gpPt11\" id=\"gpPt12\" fill=\"currentColor\" stroke=\"none\"/>\n",
       "\t<path id=\"gpPt13\" stroke-width=\"0.222\" stroke=\"currentColor\" d=\"M0,1.330 L1.265,0.411 L0.782,-1.067 L-0.782,-1.076 L-1.265,0.411 z\"/>\n",
       "\t<use xlink:href=\"#gpPt13\" id=\"gpPt14\" fill=\"currentColor\" stroke=\"none\"/>\n",
       "\t<filter id=\"textbox\" filterUnits=\"objectBoundingBox\" x=\"0\" y=\"0\" height=\"1\" width=\"1\">\n",
       "\t  <feFlood flood-color=\"white\" flood-opacity=\"1\" result=\"bgnd\"/>\n",
       "\t  <feComposite in=\"SourceGraphic\" in2=\"bgnd\" operator=\"atop\"/>\n",
       "\t</filter>\n",
       "\t<filter id=\"greybox\" filterUnits=\"objectBoundingBox\" x=\"0\" y=\"0\" height=\"1\" width=\"1\">\n",
       "\t  <feFlood flood-color=\"lightgrey\" flood-opacity=\"1\" result=\"grey\"/>\n",
       "\t  <feComposite in=\"SourceGraphic\" in2=\"grey\" operator=\"atop\"/>\n",
       "\t</filter>\n",
       "</defs>\n",
       "<g fill=\"none\" color=\"white\" stroke=\"currentColor\" stroke-width=\"1.00\" stroke-linecap=\"butt\" stroke-linejoin=\"miter\">\n",
       "</g>\n",
       "<g fill=\"none\" color=\"black\" stroke=\"currentColor\" stroke-width=\"1.00\" stroke-linecap=\"butt\" stroke-linejoin=\"miter\">\n",
       "\t<g stroke=\"none\" shape-rendering=\"crispEdges\">\n",
       "\t\t<polygon fill=\"rgb(255, 255, 255)\" points=\"70.5,384.0 530.9,384.0 530.9,18.2 70.5,18.2 \"/>\n",
       "\t</g>\n",
       "</g>\n",
       "<g fill=\"none\" color=\"black\" stroke=\"currentColor\" stroke-width=\"1.00\" stroke-linecap=\"butt\" stroke-linejoin=\"miter\">\n",
       "\t<path stroke=\"rgb(  0,   0,   0)\" d=\"M70.5,384.0 L83.0,384.0 M531.0,384.0 L518.5,384.0  \"/>\t<g transform=\"translate(62.2,387.3)\" stroke=\"none\" fill=\"rgb(38,38,38)\" font-family=\"Arial\" font-size=\"10.00\" text-anchor=\"end\">\n",
       "\t\t<text><tspan font-family=\"Arial\">-2e-12</tspan></text>\n",
       "\t</g>\n",
       "</g>\n",
       "<g fill=\"none\" color=\"black\" stroke=\"currentColor\" stroke-width=\"1.00\" stroke-linecap=\"butt\" stroke-linejoin=\"miter\">\n",
       "\t<path stroke=\"rgb(  0,   0,   0)\" d=\"M70.5,310.8 L83.0,310.8 M531.0,310.8 L518.5,310.8  \"/>\t<g transform=\"translate(62.2,314.1)\" stroke=\"none\" fill=\"rgb(38,38,38)\" font-family=\"Arial\" font-size=\"10.00\" text-anchor=\"end\">\n",
       "\t\t<text><tspan font-family=\"Arial\">0</tspan></text>\n",
       "\t</g>\n",
       "</g>\n",
       "<g fill=\"none\" color=\"black\" stroke=\"currentColor\" stroke-width=\"1.00\" stroke-linecap=\"butt\" stroke-linejoin=\"miter\">\n",
       "\t<path stroke=\"rgb(  0,   0,   0)\" d=\"M70.5,237.6 L83.0,237.6 M531.0,237.6 L518.5,237.6  \"/>\t<g transform=\"translate(62.2,240.9)\" stroke=\"none\" fill=\"rgb(38,38,38)\" font-family=\"Arial\" font-size=\"10.00\" text-anchor=\"end\">\n",
       "\t\t<text><tspan font-family=\"Arial\">2e-12</tspan></text>\n",
       "\t</g>\n",
       "</g>\n",
       "<g fill=\"none\" color=\"black\" stroke=\"currentColor\" stroke-width=\"1.00\" stroke-linecap=\"butt\" stroke-linejoin=\"miter\">\n",
       "\t<path stroke=\"rgb(  0,   0,   0)\" d=\"M70.5,164.5 L83.0,164.5 M531.0,164.5 L518.5,164.5  \"/>\t<g transform=\"translate(62.2,167.8)\" stroke=\"none\" fill=\"rgb(38,38,38)\" font-family=\"Arial\" font-size=\"10.00\" text-anchor=\"end\">\n",
       "\t\t<text><tspan font-family=\"Arial\">4e-12</tspan></text>\n",
       "\t</g>\n",
       "</g>\n",
       "<g fill=\"none\" color=\"black\" stroke=\"currentColor\" stroke-width=\"1.00\" stroke-linecap=\"butt\" stroke-linejoin=\"miter\">\n",
       "\t<path stroke=\"rgb(  0,   0,   0)\" d=\"M70.5,91.3 L83.0,91.3 M531.0,91.3 L518.5,91.3  \"/>\t<g transform=\"translate(62.2,94.6)\" stroke=\"none\" fill=\"rgb(38,38,38)\" font-family=\"Arial\" font-size=\"10.00\" text-anchor=\"end\">\n",
       "\t\t<text><tspan font-family=\"Arial\">6e-12</tspan></text>\n",
       "\t</g>\n",
       "</g>\n",
       "<g fill=\"none\" color=\"black\" stroke=\"currentColor\" stroke-width=\"1.00\" stroke-linecap=\"butt\" stroke-linejoin=\"miter\">\n",
       "\t<path stroke=\"rgb(  0,   0,   0)\" d=\"M70.5,18.1 L83.0,18.1 M531.0,18.1 L518.5,18.1  \"/>\t<g transform=\"translate(62.2,21.4)\" stroke=\"none\" fill=\"rgb(38,38,38)\" font-family=\"Arial\" font-size=\"10.00\" text-anchor=\"end\">\n",
       "\t\t<text><tspan font-family=\"Arial\">8e-12</tspan></text>\n",
       "\t</g>\n",
       "</g>\n",
       "<g fill=\"none\" color=\"black\" stroke=\"currentColor\" stroke-width=\"1.00\" stroke-linecap=\"butt\" stroke-linejoin=\"miter\">\n",
       "\t<path stroke=\"rgb(  0,   0,   0)\" d=\"M70.5,384.0 L70.5,371.5 M70.5,18.1 L70.5,30.6  \"/>\t<g transform=\"translate(70.5,405.3)\" stroke=\"none\" fill=\"rgb(38,38,38)\" font-family=\"Arial\" font-size=\"10.00\" text-anchor=\"middle\">\n",
       "\t\t<text><tspan font-family=\"Arial\">-3e-06</tspan></text>\n",
       "\t</g>\n",
       "</g>\n",
       "<g fill=\"none\" color=\"black\" stroke=\"currentColor\" stroke-width=\"1.00\" stroke-linecap=\"butt\" stroke-linejoin=\"miter\">\n",
       "\t<path stroke=\"rgb(  0,   0,   0)\" d=\"M147.3,384.0 L147.3,371.5 M147.3,18.1 L147.3,30.6  \"/>\t<g transform=\"translate(147.3,405.3)\" stroke=\"none\" fill=\"rgb(38,38,38)\" font-family=\"Arial\" font-size=\"10.00\" text-anchor=\"middle\">\n",
       "\t\t<text><tspan font-family=\"Arial\">-2e-06</tspan></text>\n",
       "\t</g>\n",
       "</g>\n",
       "<g fill=\"none\" color=\"black\" stroke=\"currentColor\" stroke-width=\"1.00\" stroke-linecap=\"butt\" stroke-linejoin=\"miter\">\n",
       "\t<path stroke=\"rgb(  0,   0,   0)\" d=\"M224.0,384.0 L224.0,371.5 M224.0,18.1 L224.0,30.6  \"/>\t<g transform=\"translate(224.0,405.3)\" stroke=\"none\" fill=\"rgb(38,38,38)\" font-family=\"Arial\" font-size=\"10.00\" text-anchor=\"middle\">\n",
       "\t\t<text><tspan font-family=\"Arial\">-1e-06</tspan></text>\n",
       "\t</g>\n",
       "</g>\n",
       "<g fill=\"none\" color=\"black\" stroke=\"currentColor\" stroke-width=\"1.00\" stroke-linecap=\"butt\" stroke-linejoin=\"miter\">\n",
       "\t<path stroke=\"rgb(  0,   0,   0)\" d=\"M300.8,384.0 L300.8,371.5 M300.8,18.1 L300.8,30.6  \"/>\t<g transform=\"translate(300.8,405.3)\" stroke=\"none\" fill=\"rgb(38,38,38)\" font-family=\"Arial\" font-size=\"10.00\" text-anchor=\"middle\">\n",
       "\t\t<text><tspan font-family=\"Arial\">0</tspan></text>\n",
       "\t</g>\n",
       "</g>\n",
       "<g fill=\"none\" color=\"black\" stroke=\"currentColor\" stroke-width=\"1.00\" stroke-linecap=\"butt\" stroke-linejoin=\"miter\">\n",
       "\t<path stroke=\"rgb(  0,   0,   0)\" d=\"M377.5,384.0 L377.5,371.5 M377.5,18.1 L377.5,30.6  \"/>\t<g transform=\"translate(377.5,405.3)\" stroke=\"none\" fill=\"rgb(38,38,38)\" font-family=\"Arial\" font-size=\"10.00\" text-anchor=\"middle\">\n",
       "\t\t<text><tspan font-family=\"Arial\">1e-06</tspan></text>\n",
       "\t</g>\n",
       "</g>\n",
       "<g fill=\"none\" color=\"black\" stroke=\"currentColor\" stroke-width=\"1.00\" stroke-linecap=\"butt\" stroke-linejoin=\"miter\">\n",
       "\t<path stroke=\"rgb(  0,   0,   0)\" d=\"M454.3,384.0 L454.3,371.5 M454.3,18.1 L454.3,30.6  \"/>\t<g transform=\"translate(454.3,405.3)\" stroke=\"none\" fill=\"rgb(38,38,38)\" font-family=\"Arial\" font-size=\"10.00\" text-anchor=\"middle\">\n",
       "\t\t<text><tspan font-family=\"Arial\">2e-06</tspan></text>\n",
       "\t</g>\n",
       "</g>\n",
       "<g fill=\"none\" color=\"black\" stroke=\"currentColor\" stroke-width=\"1.00\" stroke-linecap=\"butt\" stroke-linejoin=\"miter\">\n",
       "\t<path stroke=\"rgb(  0,   0,   0)\" d=\"M531.0,384.0 L531.0,371.5 M531.0,18.1 L531.0,30.6  \"/>\t<g transform=\"translate(531.0,405.3)\" stroke=\"none\" fill=\"rgb(38,38,38)\" font-family=\"Arial\" font-size=\"10.00\" text-anchor=\"middle\">\n",
       "\t\t<text><tspan font-family=\"Arial\">3e-06</tspan></text>\n",
       "\t</g>\n",
       "</g>\n",
       "<g fill=\"none\" color=\"black\" stroke=\"currentColor\" stroke-width=\"1.00\" stroke-linecap=\"butt\" stroke-linejoin=\"miter\">\n",
       "</g>\n",
       "<g fill=\"none\" color=\"black\" stroke=\"currentColor\" stroke-width=\"1.00\" stroke-linecap=\"butt\" stroke-linejoin=\"miter\">\n",
       "</g>\n",
       "\t<g id=\"gnuplot_plot_1a\"><title>gnuplot_plot_1a</title>\n",
       "<g fill=\"none\" color=\"white\" stroke=\"rgb(  0,   0,   0)\" stroke-width=\"2.00\" stroke-linecap=\"butt\" stroke-linejoin=\"miter\">\n",
       "</g>\n",
       "<g fill=\"none\" color=\"black\" stroke=\"currentColor\" stroke-width=\"2.00\" stroke-linecap=\"butt\" stroke-linejoin=\"miter\">\n",
       "\t<path stroke=\"rgb(  0,   0, 255)\" d=\"M115.5,80.3 L117.3,84.7 L119.2,89.1 L121.0,93.4 L122.9,97.7 L124.7,101.9 L126.6,106.1 L128.4,110.3   L130.3,114.4 L132.1,118.5 L134.0,122.5 L135.8,126.5 L137.7,130.5 L139.5,134.4 L141.4,138.3 L143.3,142.1   L145.1,145.9 L147.0,149.6 L148.8,153.3 L150.7,157.0 L152.5,160.6 L154.4,164.1 L156.2,167.7 L158.1,171.1   L159.9,174.6 L161.8,178.0 L163.6,181.3 L165.5,184.6 L167.3,187.9 L169.2,191.1 L171.0,194.3 L172.9,197.5   L174.8,200.6 L176.6,203.6 L178.5,206.6 L180.3,209.6 L182.2,212.5 L184.0,215.4 L185.9,218.3 L187.7,221.1   L189.6,223.8 L191.4,226.5 L193.3,229.2 L195.1,231.8 L197.0,234.4 L198.8,237.0 L200.7,239.5 L202.5,241.9   L204.4,244.3 L206.3,246.7 L208.1,249.0 L210.0,251.3 L211.8,253.6 L213.7,255.8 L215.5,257.9 L217.4,260.1   L219.2,262.1 L221.1,264.2 L222.9,266.1 L224.8,268.1 L226.6,270.0 L228.5,271.9 L230.3,273.7 L232.2,275.5   L234.0,277.2 L235.9,278.9 L237.8,280.5 L239.6,282.1 L241.5,283.7 L243.3,285.2 L245.2,286.7 L247.0,288.1   L248.9,289.5 L250.7,290.9 L252.6,292.2 L254.4,293.4 L256.3,294.7 L258.1,295.8 L260.0,297.0 L261.8,298.1   L263.7,299.1 L265.5,300.1 L267.4,301.1 L269.3,302.0 L271.1,302.9 L273.0,303.7 L274.8,304.5 L276.7,305.3   L278.5,306.0 L280.4,306.7 L282.2,307.3 L284.1,307.9 L285.9,308.4 L287.8,308.9 L289.6,309.4 L291.5,309.8   L293.3,310.1 L295.2,310.5 L297.0,310.7 L298.9,311.0 L300.8,311.2 L302.6,311.3 L304.5,311.5 L306.3,311.5   L308.2,311.6 L310.0,311.5 L311.9,311.5 L313.7,311.4 L315.6,311.2 L317.4,311.0 L319.3,310.8 L321.1,310.5   L323.0,310.2 L324.8,309.9 L326.7,309.5 L328.5,309.0 L330.4,308.6 L332.2,308.0 L334.1,307.5 L336.0,306.8   L337.8,306.2 L339.7,305.5 L341.5,304.8 L343.4,304.0 L345.2,303.1 L347.1,302.3 L348.9,301.4 L350.8,300.4   L352.6,299.4 L354.5,298.4 L356.3,297.3 L358.2,296.2 L360.0,295.0 L361.9,293.8 L363.7,292.5 L365.6,291.2   L367.5,289.9 L369.3,288.5 L371.2,287.1 L373.0,285.6 L374.9,284.1 L376.7,282.6 L378.6,281.0 L380.4,279.4   L382.3,277.7 L384.1,276.0 L386.0,274.2 L387.8,272.4 L389.7,270.5 L391.5,268.6 L393.4,266.7 L395.2,264.7   L397.1,262.7 L399.0,260.6 L400.8,258.5 L402.7,256.4 L404.5,254.2 L406.4,252.0 L408.2,249.7 L410.1,247.4   L411.9,245.0 L413.8,242.6 L415.6,240.2 L417.5,237.7 L419.3,235.1 L421.2,232.6 L423.0,229.9 L424.9,227.3   L426.7,224.6 L428.6,221.8 L430.5,219.1 L432.3,216.2 L434.2,213.4 L436.0,210.4 L437.9,207.5 L439.7,204.5   L441.6,201.4 L443.4,198.3 L445.3,195.2 L447.1,192.0 L449.0,188.8 L450.8,185.6 L452.7,182.3 L454.5,178.9   L456.4,175.5 L458.2,172.1 L460.1,168.7 L462.0,165.1 L463.8,161.6 L465.7,158.0 L467.5,154.3 L469.4,150.7   L471.2,146.9 L473.1,143.2 L474.9,139.4 L476.8,135.5 L478.6,131.6 L480.5,127.7 L482.3,123.7 L484.2,119.7   L486.0,115.6  \"/></g>\n",
       "\t</g>\n",
       "\t<g id=\"gnuplot_plot_2a\"><title>gnuplot_plot_2a</title>\n",
       "<g fill=\"none\" color=\"black\" stroke=\"currentColor\" stroke-width=\"2.00\" stroke-linecap=\"butt\" stroke-linejoin=\"miter\">\n",
       "\t<path stroke=\"rgb(255,   0,   0)\" d=\"M319.3,334.6 L319.3,80.3  \"/></g>\n",
       "\t</g>\n",
       "\t<g id=\"gnuplot_plot_3a\"><title>gnuplot_plot_3a</title>\n",
       "<g fill=\"none\" color=\"black\" stroke=\"currentColor\" stroke-width=\"2.00\" stroke-linecap=\"butt\" stroke-linejoin=\"miter\">\n",
       "\t<path stroke=\"rgb(  0,   0,   0)\" d=\"M115.5,310.8 L117.3,310.8 L119.2,310.8 L121.0,310.8 L122.9,310.8 L124.7,310.8 L126.6,310.8 L128.4,310.8   L130.3,310.8 L132.1,310.8 L134.0,310.8 L135.8,310.8 L137.7,310.8 L139.5,310.8 L141.4,310.8 L143.3,310.8   L145.1,310.8 L147.0,310.8 L148.8,310.8 L150.7,310.8 L152.5,310.8 L154.4,310.8 L156.2,310.8 L158.1,310.8   L159.9,310.8 L161.8,310.8 L163.6,310.8 L165.5,310.8 L167.3,310.8 L169.2,310.8 L171.0,310.8 L172.9,310.8   L174.8,310.8 L176.6,310.8 L178.5,310.8 L180.3,310.8 L182.2,310.8 L184.0,310.8 L185.9,310.8 L187.7,310.8   L189.6,310.8 L191.4,310.8 L193.3,310.8 L195.1,310.8 L197.0,310.8 L198.8,310.8 L200.7,310.8 L202.5,310.8   L204.4,310.8 L206.3,310.8 L208.1,310.8 L210.0,310.8 L211.8,310.8 L213.7,310.8 L215.5,310.8 L217.4,310.8   L219.2,310.8 L221.1,310.8 L222.9,310.8 L224.8,310.8 L226.6,310.8 L228.5,310.8 L230.3,310.8 L232.2,310.8   L234.0,310.8 L235.9,310.8 L237.8,310.8 L239.6,310.8 L241.5,310.8 L243.3,310.8 L245.2,310.8 L247.0,310.8   L248.9,310.8 L250.7,310.8 L252.6,310.8 L254.4,310.8 L256.3,310.8 L258.1,310.8 L260.0,310.8 L261.8,310.8   L263.7,310.8 L265.5,310.8 L267.4,310.8 L269.3,310.8 L271.1,310.8 L273.0,310.8 L274.8,310.8 L276.7,310.8   L278.5,310.8 L280.4,310.8 L282.2,310.8 L284.1,310.8 L285.9,310.8 L287.8,310.8 L289.6,310.8 L291.5,310.8   L293.3,310.8 L295.2,310.8 L297.0,310.8 L298.9,310.8 L300.8,310.8 L302.6,310.8 L304.5,310.8 L306.3,310.8   L308.2,310.8 L310.0,310.8 L311.9,310.8 L313.7,310.8 L315.6,310.8 L317.4,310.8 L319.3,310.8 L321.1,310.8   L323.0,310.8 L324.8,310.8 L326.7,310.8 L328.5,310.8 L330.4,310.8 L332.2,310.8 L334.1,310.8 L336.0,310.8   L337.8,310.8 L339.7,310.8 L341.5,310.8 L343.4,310.8 L345.2,310.8 L347.1,310.8 L348.9,310.8 L350.8,310.8   L352.6,310.8 L354.5,310.8 L356.3,310.8 L358.2,310.8 L360.0,310.8 L361.9,310.8 L363.7,310.8 L365.6,310.8   L367.5,310.8 L369.3,310.8 L371.2,310.8 L373.0,310.8 L374.9,310.8 L376.7,310.8 L378.6,310.8 L380.4,310.8   L382.3,310.8 L384.1,310.8 L386.0,310.8 L387.8,310.8 L389.7,310.8 L391.5,310.8 L393.4,310.8 L395.2,310.8   L397.1,310.8 L399.0,310.8 L400.8,310.8 L402.7,310.8 L404.5,310.8 L406.4,310.8 L408.2,310.8 L410.1,310.8   L411.9,310.8 L413.8,310.8 L415.6,310.8 L417.5,310.8 L419.3,310.8 L421.2,310.8 L423.0,310.8 L424.9,310.8   L426.7,310.8 L428.6,310.8 L430.5,310.8 L432.3,310.8 L434.2,310.8 L436.0,310.8 L437.9,310.8 L439.7,310.8   L441.6,310.8 L443.4,310.8 L445.3,310.8 L447.1,310.8 L449.0,310.8 L450.8,310.8 L452.7,310.8 L454.5,310.8   L456.4,310.8 L458.2,310.8 L460.1,310.8 L462.0,310.8 L463.8,310.8 L465.7,310.8 L467.5,310.8 L469.4,310.8   L471.2,310.8 L473.1,310.8 L474.9,310.8 L476.8,310.8 L478.6,310.8 L480.5,310.8 L482.3,310.8 L484.2,310.8   L486.0,310.8  \"/></g>\n",
       "\t</g>\n",
       "<g fill=\"none\" color=\"black\" stroke=\"currentColor\" stroke-width=\"2.00\" stroke-linecap=\"butt\" stroke-linejoin=\"miter\">\n",
       "</g>\n",
       "<g fill=\"none\" color=\"black\" stroke=\"black\" stroke-width=\"0.50\" stroke-linecap=\"butt\" stroke-linejoin=\"miter\">\n",
       "\t<path stroke=\"rgb( 38,  38,  38)\" d=\"M70.6,383.9 L531.1,383.9 M70.6,18.0 L531.1,18.0 M70.6,383.9 L70.6,18.0 M531.1,383.9 L531.1,18.0    \"/></g>\n",
       "<g fill=\"none\" color=\"black\" stroke=\"rgb( 38,  38,  38)\" stroke-width=\"1.00\" stroke-linecap=\"butt\" stroke-linejoin=\"miter\">\n",
       "</g>\n",
       "<g fill=\"none\" color=\"black\" stroke=\"currentColor\" stroke-width=\"1.00\" stroke-linecap=\"butt\" stroke-linejoin=\"miter\">\n",
       "</g>\n",
       "</g>\n",
       "</svg>"
      ],
      "text/plain": [
       "<IPython.core.display.SVG object>"
      ]
     },
     "metadata": {},
     "output_type": "display_data"
    }
   ],
   "source": [
    "%plot -s 600,500 -f 'svg'\n",
    "\n",
    "x=[-10*t:t/10:t*10];\n",
    "y=a*x.^2+b.*x+c;\n",
    "\n",
    "plot(x,y,'b-','linewidth',2)\n",
    "hold on\n",
    "plot([t t],[min(y)-0.1*max(y) max(y)],'r','linewidth',2)\n",
    "plot(x,zeros(size(x)),'k','linewidth',2)"
   ]
  },
  {
   "cell_type": "code",
   "execution_count": null,
   "metadata": {},
   "outputs": [],
   "source": []
  }
 ],
 "metadata": {
  "kernelspec": {
   "display_name": "Octave",
   "language": "octave",
   "name": "octave"
  },
  "language_info": {
   "file_extension": ".m",
   "help_links": [
    {
     "text": "GNU Octave",
     "url": "https://www.gnu.org/software/octave/support.html"
    },
    {
     "text": "Octave Kernel",
     "url": "https://github.com/Calysto/octave_kernel"
    },
    {
     "text": "MetaKernel Magics",
     "url": "https://metakernel.readthedocs.io/en/latest/source/README.html"
    }
   ],
   "mimetype": "text/x-octave",
   "name": "octave",
   "version": "5.2.0"
  }
 },
 "nbformat": 4,
 "nbformat_minor": 2
}
