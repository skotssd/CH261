{
 "cells": [
  {
   "cell_type": "code",
   "execution_count": 4,
   "metadata": {},
   "outputs": [],
   "source": [
    "% some housekeeping stuff\n",
    "register_graphics_toolkit (\"gnuplot\");\n",
    "available_graphics_toolkits ();\n",
    "graphics_toolkit (\"gnuplot\")\n",
    "clear\n",
    "% end of housekeeping"
   ]
  },
  {
   "cell_type": "markdown",
   "metadata": {},
   "source": [
    "# Roots of a quadratic equation\n",
    "\n",
    "The general form of a quadratic equation is :\n",
    "\n",
    "$ax^2 + bx+c=0$\n",
    "\n",
    "it is possible to solve for the roots (x values where y=0) using the quadratic equation.  You can also solve numerically using this script.  Just input the values for a, b and c in the code below.\n",
    "\n",
    "This might be useful for doing assignments in CH261"
   ]
  },
  {
   "cell_type": "code",
   "execution_count": 2,
   "metadata": {},
   "outputs": [
    {
     "name": "stdout",
     "output_type": "stream",
     "text": [
      "t =  0.0012317\n",
      "pt =  2.9095\n"
     ]
    }
   ],
   "source": [
    "%plot -s 600,500 -f 'svg'\n",
    "a=1; Ka=10^-4.4627; AcT=4.526e-2;\n",
    "b=Ka;\n",
    "c=-Ka*AcT;\n",
    "t=roots([a b c]); %finds the roots\n",
    "t=t(imag(t)==0); %sets any imaginary roots to zero\n",
    "% display the positive real root\n",
    "\n",
    "t=t(t>0)\n",
    "\n",
    "% take minus log in case that might be useful (pH for example)\n",
    "\n",
    "pt=-log10(t)"
   ]
  },
  {
   "cell_type": "code",
   "execution_count": 6,
   "metadata": {},
   "outputs": [
    {
     "data": {
      "image/svg+xml": [
       "<svg xmlns=\"http://www.w3.org/2000/svg\" xmlns:xlink=\"http://www.w3.org/1999/xlink\" width=\"600px\" height=\"500px\" viewBox=\"0 0 560 420\">\n",
       "\n",
       "<title>Gnuplot</title>\n",
       "<desc>Produced by GNUPLOT 5.4 patchlevel 0 </desc>\n",
       "\n",
       "<g id=\"gnuplot_canvas\">\n",
       "\n",
       "<rect x=\"0\" y=\"0\" width=\"560\" height=\"420\" fill=\"none\"/>\n",
       "<defs>\n",
       "\n",
       "\t<circle id=\"gpDot\" r=\"0.5\" stroke-width=\"0.5\" stroke=\"currentColor\"/>\n",
       "\t<path id=\"gpPt0\" stroke-width=\"0.222\" stroke=\"currentColor\" d=\"M-1,0 h2 M0,-1 v2\"/>\n",
       "\t<path id=\"gpPt1\" stroke-width=\"0.222\" stroke=\"currentColor\" d=\"M-1,-1 L1,1 M1,-1 L-1,1\"/>\n",
       "\t<path id=\"gpPt2\" stroke-width=\"0.222\" stroke=\"currentColor\" d=\"M-1,0 L1,0 M0,-1 L0,1 M-1,-1 L1,1 M-1,1 L1,-1\"/>\n",
       "\t<rect id=\"gpPt3\" stroke-width=\"0.222\" stroke=\"currentColor\" x=\"-1\" y=\"-1\" width=\"2\" height=\"2\"/>\n",
       "\t<rect id=\"gpPt4\" stroke-width=\"0.222\" stroke=\"currentColor\" fill=\"currentColor\" x=\"-1\" y=\"-1\" width=\"2\" height=\"2\"/>\n",
       "\t<circle id=\"gpPt5\" stroke-width=\"0.222\" stroke=\"currentColor\" cx=\"0\" cy=\"0\" r=\"1\"/>\n",
       "\t<use xlink:href=\"#gpPt5\" id=\"gpPt6\" fill=\"currentColor\" stroke=\"none\"/>\n",
       "\t<path id=\"gpPt7\" stroke-width=\"0.222\" stroke=\"currentColor\" d=\"M0,-1.33 L-1.33,0.67 L1.33,0.67 z\"/>\n",
       "\t<use xlink:href=\"#gpPt7\" id=\"gpPt8\" fill=\"currentColor\" stroke=\"none\"/>\n",
       "\t<use xlink:href=\"#gpPt7\" id=\"gpPt9\" stroke=\"currentColor\" transform=\"rotate(180)\"/>\n",
       "\t<use xlink:href=\"#gpPt9\" id=\"gpPt10\" fill=\"currentColor\" stroke=\"none\"/>\n",
       "\t<use xlink:href=\"#gpPt3\" id=\"gpPt11\" stroke=\"currentColor\" transform=\"rotate(45)\"/>\n",
       "\t<use xlink:href=\"#gpPt11\" id=\"gpPt12\" fill=\"currentColor\" stroke=\"none\"/>\n",
       "\t<path id=\"gpPt13\" stroke-width=\"0.222\" stroke=\"currentColor\" d=\"M0,1.330 L1.265,0.411 L0.782,-1.067 L-0.782,-1.076 L-1.265,0.411 z\"/>\n",
       "\t<use xlink:href=\"#gpPt13\" id=\"gpPt14\" fill=\"currentColor\" stroke=\"none\"/>\n",
       "\t<filter id=\"textbox\" filterUnits=\"objectBoundingBox\" x=\"0\" y=\"0\" height=\"1\" width=\"1\">\n",
       "\t  <feFlood flood-color=\"white\" flood-opacity=\"1\" result=\"bgnd\"/>\n",
       "\t  <feComposite in=\"SourceGraphic\" in2=\"bgnd\" operator=\"atop\"/>\n",
       "\t</filter>\n",
       "\t<filter id=\"greybox\" filterUnits=\"objectBoundingBox\" x=\"0\" y=\"0\" height=\"1\" width=\"1\">\n",
       "\t  <feFlood flood-color=\"lightgrey\" flood-opacity=\"1\" result=\"grey\"/>\n",
       "\t  <feComposite in=\"SourceGraphic\" in2=\"grey\" operator=\"atop\"/>\n",
       "\t</filter>\n",
       "</defs>\n",
       "<g fill=\"none\" color=\"white\" stroke=\"currentColor\" stroke-width=\"1.00\" stroke-linecap=\"butt\" stroke-linejoin=\"miter\">\n",
       "</g>\n",
       "<g fill=\"none\" color=\"black\" stroke=\"currentColor\" stroke-width=\"1.00\" stroke-linecap=\"butt\" stroke-linejoin=\"miter\">\n",
       "\t<g stroke=\"none\" shape-rendering=\"crispEdges\">\n",
       "\t\t<polygon fill=\"rgb(255, 255, 255)\" points=\"70.5,384.0 534.9,384.0 534.9,18.2 70.5,18.2 \"/>\n",
       "\t</g>\n",
       "</g>\n",
       "<g fill=\"none\" color=\"black\" stroke=\"currentColor\" stroke-width=\"1.00\" stroke-linecap=\"butt\" stroke-linejoin=\"miter\">\n",
       "\t<path stroke=\"rgb(  0,   0,   0)\" d=\"M70.5,384.0 L83.0,384.0 M535.0,384.0 L522.5,384.0  \"/>\t<g transform=\"translate(62.2,387.3)\" stroke=\"none\" fill=\"rgb(38,38,38)\" font-family=\"Arial\" font-size=\"10.00\" text-anchor=\"end\">\n",
       "\t\t<text><tspan font-family=\"Arial\">-1e-05</tspan></text>\n",
       "\t</g>\n",
       "</g>\n",
       "<g fill=\"none\" color=\"black\" stroke=\"currentColor\" stroke-width=\"1.00\" stroke-linecap=\"butt\" stroke-linejoin=\"miter\">\n",
       "\t<path stroke=\"rgb(  0,   0,   0)\" d=\"M70.5,331.7 L83.0,331.7 M535.0,331.7 L522.5,331.7  \"/>\t<g transform=\"translate(62.2,335.0)\" stroke=\"none\" fill=\"rgb(38,38,38)\" font-family=\"Arial\" font-size=\"10.00\" text-anchor=\"end\">\n",
       "\t\t<text><tspan font-family=\"Arial\">0</tspan></text>\n",
       "\t</g>\n",
       "</g>\n",
       "<g fill=\"none\" color=\"black\" stroke=\"currentColor\" stroke-width=\"1.00\" stroke-linecap=\"butt\" stroke-linejoin=\"miter\">\n",
       "\t<path stroke=\"rgb(  0,   0,   0)\" d=\"M70.5,279.5 L83.0,279.5 M535.0,279.5 L522.5,279.5  \"/>\t<g transform=\"translate(62.2,282.8)\" stroke=\"none\" fill=\"rgb(38,38,38)\" font-family=\"Arial\" font-size=\"10.00\" text-anchor=\"end\">\n",
       "\t\t<text><tspan font-family=\"Arial\">1e-05</tspan></text>\n",
       "\t</g>\n",
       "</g>\n",
       "<g fill=\"none\" color=\"black\" stroke=\"currentColor\" stroke-width=\"1.00\" stroke-linecap=\"butt\" stroke-linejoin=\"miter\">\n",
       "\t<path stroke=\"rgb(  0,   0,   0)\" d=\"M70.5,227.2 L83.0,227.2 M535.0,227.2 L522.5,227.2  \"/>\t<g transform=\"translate(62.2,230.5)\" stroke=\"none\" fill=\"rgb(38,38,38)\" font-family=\"Arial\" font-size=\"10.00\" text-anchor=\"end\">\n",
       "\t\t<text><tspan font-family=\"Arial\">2e-05</tspan></text>\n",
       "\t</g>\n",
       "</g>\n",
       "<g fill=\"none\" color=\"black\" stroke=\"currentColor\" stroke-width=\"1.00\" stroke-linecap=\"butt\" stroke-linejoin=\"miter\">\n",
       "\t<path stroke=\"rgb(  0,   0,   0)\" d=\"M70.5,174.9 L83.0,174.9 M535.0,174.9 L522.5,174.9  \"/>\t<g transform=\"translate(62.2,178.2)\" stroke=\"none\" fill=\"rgb(38,38,38)\" font-family=\"Arial\" font-size=\"10.00\" text-anchor=\"end\">\n",
       "\t\t<text><tspan font-family=\"Arial\">3e-05</tspan></text>\n",
       "\t</g>\n",
       "</g>\n",
       "<g fill=\"none\" color=\"black\" stroke=\"currentColor\" stroke-width=\"1.00\" stroke-linecap=\"butt\" stroke-linejoin=\"miter\">\n",
       "\t<path stroke=\"rgb(  0,   0,   0)\" d=\"M70.5,122.6 L83.0,122.6 M535.0,122.6 L522.5,122.6  \"/>\t<g transform=\"translate(62.2,125.9)\" stroke=\"none\" fill=\"rgb(38,38,38)\" font-family=\"Arial\" font-size=\"10.00\" text-anchor=\"end\">\n",
       "\t\t<text><tspan font-family=\"Arial\">4e-05</tspan></text>\n",
       "\t</g>\n",
       "</g>\n",
       "<g fill=\"none\" color=\"black\" stroke=\"currentColor\" stroke-width=\"1.00\" stroke-linecap=\"butt\" stroke-linejoin=\"miter\">\n",
       "\t<path stroke=\"rgb(  0,   0,   0)\" d=\"M70.5,70.4 L83.0,70.4 M535.0,70.4 L522.5,70.4  \"/>\t<g transform=\"translate(62.2,73.7)\" stroke=\"none\" fill=\"rgb(38,38,38)\" font-family=\"Arial\" font-size=\"10.00\" text-anchor=\"end\">\n",
       "\t\t<text><tspan font-family=\"Arial\">5e-05</tspan></text>\n",
       "\t</g>\n",
       "</g>\n",
       "<g fill=\"none\" color=\"black\" stroke=\"currentColor\" stroke-width=\"1.00\" stroke-linecap=\"butt\" stroke-linejoin=\"miter\">\n",
       "\t<path stroke=\"rgb(  0,   0,   0)\" d=\"M70.5,18.1 L83.0,18.1 M535.0,18.1 L522.5,18.1  \"/>\t<g transform=\"translate(62.2,21.4)\" stroke=\"none\" fill=\"rgb(38,38,38)\" font-family=\"Arial\" font-size=\"10.00\" text-anchor=\"end\">\n",
       "\t\t<text><tspan font-family=\"Arial\">6e-05</tspan></text>\n",
       "\t</g>\n",
       "</g>\n",
       "<g fill=\"none\" color=\"black\" stroke=\"currentColor\" stroke-width=\"1.00\" stroke-linecap=\"butt\" stroke-linejoin=\"miter\">\n",
       "\t<path stroke=\"rgb(  0,   0,   0)\" d=\"M70.5,384.0 L70.5,371.5 M70.5,18.1 L70.5,30.6  \"/>\t<g transform=\"translate(70.5,405.3)\" stroke=\"none\" fill=\"rgb(38,38,38)\" font-family=\"Arial\" font-size=\"10.00\" text-anchor=\"middle\">\n",
       "\t\t<text><tspan font-family=\"Arial\">-0.01</tspan></text>\n",
       "\t</g>\n",
       "</g>\n",
       "<g fill=\"none\" color=\"black\" stroke=\"currentColor\" stroke-width=\"1.00\" stroke-linecap=\"butt\" stroke-linejoin=\"miter\">\n",
       "\t<path stroke=\"rgb(  0,   0,   0)\" d=\"M186.6,384.0 L186.6,371.5 M186.6,18.1 L186.6,30.6  \"/>\t<g transform=\"translate(186.6,405.3)\" stroke=\"none\" fill=\"rgb(38,38,38)\" font-family=\"Arial\" font-size=\"10.00\" text-anchor=\"middle\">\n",
       "\t\t<text><tspan font-family=\"Arial\">-0.005</tspan></text>\n",
       "\t</g>\n",
       "</g>\n",
       "<g fill=\"none\" color=\"black\" stroke=\"currentColor\" stroke-width=\"1.00\" stroke-linecap=\"butt\" stroke-linejoin=\"miter\">\n",
       "\t<path stroke=\"rgb(  0,   0,   0)\" d=\"M302.8,384.0 L302.8,371.5 M302.8,18.1 L302.8,30.6  \"/>\t<g transform=\"translate(302.8,405.3)\" stroke=\"none\" fill=\"rgb(38,38,38)\" font-family=\"Arial\" font-size=\"10.00\" text-anchor=\"middle\">\n",
       "\t\t<text><tspan font-family=\"Arial\">0</tspan></text>\n",
       "\t</g>\n",
       "</g>\n",
       "<g fill=\"none\" color=\"black\" stroke=\"currentColor\" stroke-width=\"1.00\" stroke-linecap=\"butt\" stroke-linejoin=\"miter\">\n",
       "\t<path stroke=\"rgb(  0,   0,   0)\" d=\"M418.9,384.0 L418.9,371.5 M418.9,18.1 L418.9,30.6  \"/>\t<g transform=\"translate(418.9,405.3)\" stroke=\"none\" fill=\"rgb(38,38,38)\" font-family=\"Arial\" font-size=\"10.00\" text-anchor=\"middle\">\n",
       "\t\t<text><tspan font-family=\"Arial\">0.005</tspan></text>\n",
       "\t</g>\n",
       "</g>\n",
       "<g fill=\"none\" color=\"black\" stroke=\"currentColor\" stroke-width=\"1.00\" stroke-linecap=\"butt\" stroke-linejoin=\"miter\">\n",
       "\t<path stroke=\"rgb(  0,   0,   0)\" d=\"M535.0,384.0 L535.0,371.5 M535.0,18.1 L535.0,30.6  \"/>\t<g transform=\"translate(535.0,405.3)\" stroke=\"none\" fill=\"rgb(38,38,38)\" font-family=\"Arial\" font-size=\"10.00\" text-anchor=\"middle\">\n",
       "\t\t<text><tspan font-family=\"Arial\">0.01</tspan></text>\n",
       "\t</g>\n",
       "</g>\n",
       "<g fill=\"none\" color=\"black\" stroke=\"currentColor\" stroke-width=\"1.00\" stroke-linecap=\"butt\" stroke-linejoin=\"miter\">\n",
       "</g>\n",
       "<g fill=\"none\" color=\"black\" stroke=\"currentColor\" stroke-width=\"1.00\" stroke-linecap=\"butt\" stroke-linejoin=\"miter\">\n",
       "</g>\n",
       "\t<g id=\"gnuplot_plot_1a\"><title>gnuplot_plot_1a</title>\n",
       "<g fill=\"none\" color=\"white\" stroke=\"rgb(  0,   0,   0)\" stroke-width=\"2.00\" stroke-linecap=\"butt\" stroke-linejoin=\"miter\">\n",
       "</g>\n",
       "<g fill=\"none\" color=\"black\" stroke=\"currentColor\" stroke-width=\"2.00\" stroke-linecap=\"butt\" stroke-linejoin=\"miter\">\n",
       "\t<path stroke=\"rgb(  0,   0, 255)\" d=\"M131.5,50.8 L133.2,56.4 L134.9,62.0 L136.6,67.6 L138.3,73.0 L140.1,78.5 L141.8,83.8 L143.5,89.2   L145.2,94.4 L146.9,99.6 L148.6,104.7 L150.3,109.8 L152.0,114.9 L153.8,119.8 L155.5,124.7 L157.2,129.6   L158.9,134.4 L160.6,139.1 L162.3,143.8 L164.0,148.4 L165.7,153.0 L167.5,157.5 L169.2,162.0 L170.9,166.4   L172.6,170.7 L174.3,175.0 L176.0,179.3 L177.7,183.4 L179.4,187.6 L181.2,191.6 L182.9,195.6 L184.6,199.6   L186.3,203.5 L188.0,207.3 L189.7,211.1 L191.4,214.8 L193.1,218.4 L194.9,222.0 L196.6,225.6 L198.3,229.1   L200.0,232.5 L201.7,235.9 L203.4,239.2 L205.1,242.5 L206.8,245.7 L208.6,248.8 L210.3,251.9 L212.0,255.0   L213.7,258.0 L215.4,260.9 L217.1,263.7 L218.8,266.6 L220.5,269.3 L222.3,272.0 L224.0,274.6 L225.7,277.2   L227.4,279.8 L229.1,282.2 L230.8,284.6 L232.5,287.0 L234.2,289.3 L236.0,291.5 L237.7,293.7 L239.4,295.8   L241.1,297.9 L242.8,299.9 L244.5,301.9 L246.2,303.8 L247.9,305.6 L249.7,307.4 L251.4,309.1 L253.1,310.8   L254.8,312.4 L256.5,314.0 L258.2,315.5 L259.9,316.9 L261.6,318.3 L263.4,319.7 L265.1,320.9 L266.8,322.2   L268.5,323.3 L270.2,324.4 L271.9,325.5 L273.6,326.5 L275.3,327.4 L277.1,328.3 L278.8,329.1 L280.5,329.9   L282.2,330.6 L283.9,331.2 L285.6,331.8 L287.3,332.3 L289.0,332.8 L290.8,333.2 L292.5,333.6 L294.2,333.9   L295.9,334.2 L297.6,334.4 L299.3,334.5 L301.0,334.6 L302.8,334.6 L304.5,334.6 L306.2,334.5 L307.9,334.3   L309.6,334.1 L311.3,333.9 L313.0,333.6 L314.7,333.2 L316.5,332.8 L318.2,332.3 L319.9,331.7 L321.6,331.1   L323.3,330.5 L325.0,329.8 L326.7,329.0 L328.4,328.2 L330.2,327.3 L331.9,326.3 L333.6,325.3 L335.3,324.3   L337.0,323.2 L338.7,322.0 L340.4,320.8 L342.1,319.5 L343.9,318.1 L345.6,316.7 L347.3,315.3 L349.0,313.8   L350.7,312.2 L352.4,310.6 L354.1,308.9 L355.8,307.2 L357.6,305.4 L359.3,303.5 L361.0,301.6 L362.7,299.7   L364.4,297.6 L366.1,295.6 L367.8,293.4 L369.5,291.2 L371.3,289.0 L373.0,286.7 L374.7,284.3 L376.4,281.9   L378.1,279.4 L379.8,276.9 L381.5,274.3 L383.2,271.6 L385.0,268.9 L386.7,266.2 L388.4,263.4 L390.1,260.5   L391.8,257.6 L393.5,254.6 L395.2,251.5 L396.9,248.4 L398.7,245.3 L400.4,242.0 L402.1,238.8 L403.8,235.4   L405.5,232.1 L407.2,228.6 L408.9,225.1 L410.6,221.6 L412.4,217.9 L414.1,214.3 L415.8,210.6 L417.5,206.8   L419.2,202.9 L420.9,199.0 L422.6,195.1 L424.3,191.1 L426.1,187.0 L427.8,182.9 L429.5,178.7 L431.2,174.5   L432.9,170.2 L434.6,165.8 L436.3,161.4 L438.0,156.9 L439.8,152.4 L441.5,147.8 L443.2,143.2 L444.9,138.5   L446.6,133.7 L448.3,128.9 L450.0,124.1 L451.7,119.2 L453.5,114.2 L455.2,109.1 L456.9,104.0 L458.6,98.9   L460.3,93.7 L462.0,88.4 L463.7,83.1 L465.4,77.7 L467.2,72.3 L468.9,66.8 L470.6,61.3 L472.3,55.7   L474.0,50.0  \"/></g>\n",
       "\t</g>\n",
       "\t<g id=\"gnuplot_plot_2a\"><title>gnuplot_plot_2a</title>\n",
       "<g fill=\"none\" color=\"black\" stroke=\"currentColor\" stroke-width=\"2.00\" stroke-linecap=\"butt\" stroke-linejoin=\"miter\">\n",
       "\t<path stroke=\"rgb(255,   0,   0)\" d=\"M319.9,362.8 L319.9,50.0  \"/></g>\n",
       "\t</g>\n",
       "\t<g id=\"gnuplot_plot_3a\"><title>gnuplot_plot_3a</title>\n",
       "<g fill=\"none\" color=\"black\" stroke=\"currentColor\" stroke-width=\"2.00\" stroke-linecap=\"butt\" stroke-linejoin=\"miter\">\n",
       "\t<path stroke=\"rgb(  0,   0,   0)\" d=\"M131.5,331.7 L133.2,331.7 L134.9,331.7 L136.6,331.7 L138.3,331.7 L140.1,331.7 L141.8,331.7 L143.5,331.7   L145.2,331.7 L146.9,331.7 L148.6,331.7 L150.3,331.7 L152.0,331.7 L153.8,331.7 L155.5,331.7 L157.2,331.7   L158.9,331.7 L160.6,331.7 L162.3,331.7 L164.0,331.7 L165.7,331.7 L167.5,331.7 L169.2,331.7 L170.9,331.7   L172.6,331.7 L174.3,331.7 L176.0,331.7 L177.7,331.7 L179.4,331.7 L181.2,331.7 L182.9,331.7 L184.6,331.7   L186.3,331.7 L188.0,331.7 L189.7,331.7 L191.4,331.7 L193.1,331.7 L194.9,331.7 L196.6,331.7 L198.3,331.7   L200.0,331.7 L201.7,331.7 L203.4,331.7 L205.1,331.7 L206.8,331.7 L208.6,331.7 L210.3,331.7 L212.0,331.7   L213.7,331.7 L215.4,331.7 L217.1,331.7 L218.8,331.7 L220.5,331.7 L222.3,331.7 L224.0,331.7 L225.7,331.7   L227.4,331.7 L229.1,331.7 L230.8,331.7 L232.5,331.7 L234.2,331.7 L236.0,331.7 L237.7,331.7 L239.4,331.7   L241.1,331.7 L242.8,331.7 L244.5,331.7 L246.2,331.7 L247.9,331.7 L249.7,331.7 L251.4,331.7 L253.1,331.7   L254.8,331.7 L256.5,331.7 L258.2,331.7 L259.9,331.7 L261.6,331.7 L263.4,331.7 L265.1,331.7 L266.8,331.7   L268.5,331.7 L270.2,331.7 L271.9,331.7 L273.6,331.7 L275.3,331.7 L277.1,331.7 L278.8,331.7 L280.5,331.7   L282.2,331.7 L283.9,331.7 L285.6,331.7 L287.3,331.7 L289.0,331.7 L290.8,331.7 L292.5,331.7 L294.2,331.7   L295.9,331.7 L297.6,331.7 L299.3,331.7 L301.0,331.7 L302.8,331.7 L304.5,331.7 L306.2,331.7 L307.9,331.7   L309.6,331.7 L311.3,331.7 L313.0,331.7 L314.7,331.7 L316.5,331.7 L318.2,331.7 L319.9,331.7 L321.6,331.7   L323.3,331.7 L325.0,331.7 L326.7,331.7 L328.4,331.7 L330.2,331.7 L331.9,331.7 L333.6,331.7 L335.3,331.7   L337.0,331.7 L338.7,331.7 L340.4,331.7 L342.1,331.7 L343.9,331.7 L345.6,331.7 L347.3,331.7 L349.0,331.7   L350.7,331.7 L352.4,331.7 L354.1,331.7 L355.8,331.7 L357.6,331.7 L359.3,331.7 L361.0,331.7 L362.7,331.7   L364.4,331.7 L366.1,331.7 L367.8,331.7 L369.5,331.7 L371.3,331.7 L373.0,331.7 L374.7,331.7 L376.4,331.7   L378.1,331.7 L379.8,331.7 L381.5,331.7 L383.2,331.7 L385.0,331.7 L386.7,331.7 L388.4,331.7 L390.1,331.7   L391.8,331.7 L393.5,331.7 L395.2,331.7 L396.9,331.7 L398.7,331.7 L400.4,331.7 L402.1,331.7 L403.8,331.7   L405.5,331.7 L407.2,331.7 L408.9,331.7 L410.6,331.7 L412.4,331.7 L414.1,331.7 L415.8,331.7 L417.5,331.7   L419.2,331.7 L420.9,331.7 L422.6,331.7 L424.3,331.7 L426.1,331.7 L427.8,331.7 L429.5,331.7 L431.2,331.7   L432.9,331.7 L434.6,331.7 L436.3,331.7 L438.0,331.7 L439.8,331.7 L441.5,331.7 L443.2,331.7 L444.9,331.7   L446.6,331.7 L448.3,331.7 L450.0,331.7 L451.7,331.7 L453.5,331.7 L455.2,331.7 L456.9,331.7 L458.6,331.7   L460.3,331.7 L462.0,331.7 L463.7,331.7 L465.4,331.7 L467.2,331.7 L468.9,331.7 L470.6,331.7 L472.3,331.7   L474.0,331.7  \"/></g>\n",
       "\t</g>\n",
       "<g fill=\"none\" color=\"black\" stroke=\"currentColor\" stroke-width=\"2.00\" stroke-linecap=\"butt\" stroke-linejoin=\"miter\">\n",
       "</g>\n",
       "<g fill=\"none\" color=\"black\" stroke=\"black\" stroke-width=\"0.50\" stroke-linecap=\"butt\" stroke-linejoin=\"miter\">\n",
       "\t<path stroke=\"rgb( 38,  38,  38)\" d=\"M70.6,383.9 L535.1,383.9 M70.6,18.0 L535.1,18.0 M70.6,383.9 L70.6,18.0 M535.1,383.9 L535.1,18.0    \"/></g>\n",
       "<g fill=\"none\" color=\"black\" stroke=\"rgb( 38,  38,  38)\" stroke-width=\"1.00\" stroke-linecap=\"butt\" stroke-linejoin=\"miter\">\n",
       "</g>\n",
       "<g fill=\"none\" color=\"black\" stroke=\"currentColor\" stroke-width=\"1.00\" stroke-linecap=\"butt\" stroke-linejoin=\"miter\">\n",
       "</g>\n",
       "</g>\n",
       "</svg>"
      ],
      "text/plain": [
       "<IPython.core.display.SVG object>"
      ]
     },
     "metadata": {},
     "output_type": "display_data"
    }
   ],
   "source": [
    "%plot -s 600,500 -f 'svg'\n",
    "\n",
    "x=[-10*t:t/10:t*10];\n",
    "y=a*x.^2+b.*x+c;\n",
    "\n",
    "plot(x,y,'b-','linewidth',2)\n",
    "hold on\n",
    "plot([t t],[min(y)-0.1*max(y) max(y)],'r','linewidth',2)\n",
    "plot(x,zeros(size(x)),'k','linewidth',2)"
   ]
  },
  {
   "cell_type": "code",
   "execution_count": null,
   "metadata": {},
   "outputs": [],
   "source": []
  }
 ],
 "metadata": {
  "kernelspec": {
   "display_name": "Octave",
   "language": "octave",
   "name": "octave"
  },
  "language_info": {
   "file_extension": ".m",
   "help_links": [
    {
     "text": "GNU Octave",
     "url": "https://www.gnu.org/software/octave/support.html"
    },
    {
     "text": "Octave Kernel",
     "url": "https://github.com/Calysto/octave_kernel"
    },
    {
     "text": "MetaKernel Magics",
     "url": "https://metakernel.readthedocs.io/en/latest/source/README.html"
    }
   ],
   "mimetype": "text/x-octave",
   "name": "octave",
   "version": "5.2.0"
  }
 },
 "nbformat": 4,
 "nbformat_minor": 2
}
