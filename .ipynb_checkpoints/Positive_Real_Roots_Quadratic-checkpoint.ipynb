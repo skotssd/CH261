{
 "cells": [
  {
   "cell_type": "code",
   "execution_count": 1,
   "metadata": {},
   "outputs": [],
   "source": [
    "% some housekeeping stuff\n",
    "register_graphics_toolkit (\"gnuplot\");\n",
    "available_graphics_toolkits ();\n",
    "graphics_toolkit (\"gnuplot\")\n",
    "clear\n",
    "% end of housekeeping"
   ]
  },
  {
   "cell_type": "markdown",
   "metadata": {},
   "source": [
    "# Roots of a quadratic equation\n",
    "\n",
    "The general form of a quadratic equation is :\n",
    "\n",
    "$ax^2 + bx+c=0$\n",
    "\n",
    "it is possible to solve for the roots (x values where y=0) using the quadratic equation.  You can also solve numerically using this script.  Just input the values for a, b and c in the code below.\n",
    "\n",
    "This might be useful for doing assignments in CH261"
   ]
  },
  {
   "cell_type": "code",
   "execution_count": 2,
   "metadata": {},
   "outputs": [
    {
     "name": "stdout",
     "output_type": "stream",
     "text": [
      "t =  0.000000081980\n",
      "pt =  7.0863\n"
     ]
    }
   ],
   "source": [
    "%plot -s 600,500 -f 'svg'\n",
    "a=1;\n",
    "b=40e-9;\n",
    "c=-1.00e-14;\n",
    "t=roots([a b c]); %finds the roots\n",
    "t(imag(t)==0); %sets any imaginary roots to zero\n",
    "% display the positive real root\n",
    "\n",
    "t=t(t>0)\n",
    "\n",
    "% take minus log in case that might be useful (pH for example)\n",
    "\n",
    "pt=-log10(t)"
   ]
  },
  {
   "cell_type": "code",
   "execution_count": 3,
   "metadata": {},
   "outputs": [
    {
     "data": {
      "image/svg+xml": [
       "<svg xmlns=\"http://www.w3.org/2000/svg\" xmlns:xlink=\"http://www.w3.org/1999/xlink\" width=\"600px\" height=\"500px\" viewBox=\"0 0 560 420\">\n",
       "\n",
       "<title>Gnuplot</title>\n",
       "<desc>Produced by GNUPLOT 5.4 patchlevel 0 </desc>\n",
       "\n",
       "<g id=\"gnuplot_canvas\">\n",
       "\n",
       "<rect x=\"0\" y=\"0\" width=\"560\" height=\"420\" fill=\"none\"/>\n",
       "<defs>\n",
       "\n",
       "\t<circle id=\"gpDot\" r=\"0.5\" stroke-width=\"0.5\" stroke=\"currentColor\"/>\n",
       "\t<path id=\"gpPt0\" stroke-width=\"0.222\" stroke=\"currentColor\" d=\"M-1,0 h2 M0,-1 v2\"/>\n",
       "\t<path id=\"gpPt1\" stroke-width=\"0.222\" stroke=\"currentColor\" d=\"M-1,-1 L1,1 M1,-1 L-1,1\"/>\n",
       "\t<path id=\"gpPt2\" stroke-width=\"0.222\" stroke=\"currentColor\" d=\"M-1,0 L1,0 M0,-1 L0,1 M-1,-1 L1,1 M-1,1 L1,-1\"/>\n",
       "\t<rect id=\"gpPt3\" stroke-width=\"0.222\" stroke=\"currentColor\" x=\"-1\" y=\"-1\" width=\"2\" height=\"2\"/>\n",
       "\t<rect id=\"gpPt4\" stroke-width=\"0.222\" stroke=\"currentColor\" fill=\"currentColor\" x=\"-1\" y=\"-1\" width=\"2\" height=\"2\"/>\n",
       "\t<circle id=\"gpPt5\" stroke-width=\"0.222\" stroke=\"currentColor\" cx=\"0\" cy=\"0\" r=\"1\"/>\n",
       "\t<use xlink:href=\"#gpPt5\" id=\"gpPt6\" fill=\"currentColor\" stroke=\"none\"/>\n",
       "\t<path id=\"gpPt7\" stroke-width=\"0.222\" stroke=\"currentColor\" d=\"M0,-1.33 L-1.33,0.67 L1.33,0.67 z\"/>\n",
       "\t<use xlink:href=\"#gpPt7\" id=\"gpPt8\" fill=\"currentColor\" stroke=\"none\"/>\n",
       "\t<use xlink:href=\"#gpPt7\" id=\"gpPt9\" stroke=\"currentColor\" transform=\"rotate(180)\"/>\n",
       "\t<use xlink:href=\"#gpPt9\" id=\"gpPt10\" fill=\"currentColor\" stroke=\"none\"/>\n",
       "\t<use xlink:href=\"#gpPt3\" id=\"gpPt11\" stroke=\"currentColor\" transform=\"rotate(45)\"/>\n",
       "\t<use xlink:href=\"#gpPt11\" id=\"gpPt12\" fill=\"currentColor\" stroke=\"none\"/>\n",
       "\t<path id=\"gpPt13\" stroke-width=\"0.222\" stroke=\"currentColor\" d=\"M0,1.330 L1.265,0.411 L0.782,-1.067 L-0.782,-1.076 L-1.265,0.411 z\"/>\n",
       "\t<use xlink:href=\"#gpPt13\" id=\"gpPt14\" fill=\"currentColor\" stroke=\"none\"/>\n",
       "\t<filter id=\"textbox\" filterUnits=\"objectBoundingBox\" x=\"0\" y=\"0\" height=\"1\" width=\"1\">\n",
       "\t  <feFlood flood-color=\"white\" flood-opacity=\"1\" result=\"bgnd\"/>\n",
       "\t  <feComposite in=\"SourceGraphic\" in2=\"bgnd\" operator=\"atop\"/>\n",
       "\t</filter>\n",
       "\t<filter id=\"greybox\" filterUnits=\"objectBoundingBox\" x=\"0\" y=\"0\" height=\"1\" width=\"1\">\n",
       "\t  <feFlood flood-color=\"lightgrey\" flood-opacity=\"1\" result=\"grey\"/>\n",
       "\t  <feComposite in=\"SourceGraphic\" in2=\"grey\" operator=\"atop\"/>\n",
       "\t</filter>\n",
       "</defs>\n",
       "<g fill=\"none\" color=\"white\" stroke=\"currentColor\" stroke-width=\"1.00\" stroke-linecap=\"butt\" stroke-linejoin=\"miter\">\n",
       "</g>\n",
       "<g fill=\"none\" color=\"black\" stroke=\"currentColor\" stroke-width=\"1.00\" stroke-linecap=\"butt\" stroke-linejoin=\"miter\">\n",
       "\t<g stroke=\"none\" shape-rendering=\"crispEdges\">\n",
       "\t\t<polygon fill=\"rgb(255, 255, 255)\" points=\"70.5,384.0 530.9,384.0 530.9,18.2 70.5,18.2 \"/>\n",
       "\t</g>\n",
       "</g>\n",
       "<g fill=\"none\" color=\"black\" stroke=\"currentColor\" stroke-width=\"1.00\" stroke-linecap=\"butt\" stroke-linejoin=\"miter\">\n",
       "\t<path stroke=\"rgb(  0,   0,   0)\" d=\"M70.5,384.0 L83.0,384.0 M531.0,384.0 L518.5,384.0  \"/>\t<g transform=\"translate(62.2,387.3)\" stroke=\"none\" fill=\"rgb(38,38,38)\" font-family=\"Arial\" font-size=\"10.00\" text-anchor=\"end\">\n",
       "\t\t<text><tspan font-family=\"Arial\">-2e-13</tspan></text>\n",
       "\t</g>\n",
       "</g>\n",
       "<g fill=\"none\" color=\"black\" stroke=\"currentColor\" stroke-width=\"1.00\" stroke-linecap=\"butt\" stroke-linejoin=\"miter\">\n",
       "\t<path stroke=\"rgb(  0,   0,   0)\" d=\"M70.5,310.8 L83.0,310.8 M531.0,310.8 L518.5,310.8  \"/>\t<g transform=\"translate(62.2,314.1)\" stroke=\"none\" fill=\"rgb(38,38,38)\" font-family=\"Arial\" font-size=\"10.00\" text-anchor=\"end\">\n",
       "\t\t<text><tspan font-family=\"Arial\">0</tspan></text>\n",
       "\t</g>\n",
       "</g>\n",
       "<g fill=\"none\" color=\"black\" stroke=\"currentColor\" stroke-width=\"1.00\" stroke-linecap=\"butt\" stroke-linejoin=\"miter\">\n",
       "\t<path stroke=\"rgb(  0,   0,   0)\" d=\"M70.5,237.6 L83.0,237.6 M531.0,237.6 L518.5,237.6  \"/>\t<g transform=\"translate(62.2,240.9)\" stroke=\"none\" fill=\"rgb(38,38,38)\" font-family=\"Arial\" font-size=\"10.00\" text-anchor=\"end\">\n",
       "\t\t<text><tspan font-family=\"Arial\">2e-13</tspan></text>\n",
       "\t</g>\n",
       "</g>\n",
       "<g fill=\"none\" color=\"black\" stroke=\"currentColor\" stroke-width=\"1.00\" stroke-linecap=\"butt\" stroke-linejoin=\"miter\">\n",
       "\t<path stroke=\"rgb(  0,   0,   0)\" d=\"M70.5,164.5 L83.0,164.5 M531.0,164.5 L518.5,164.5  \"/>\t<g transform=\"translate(62.2,167.8)\" stroke=\"none\" fill=\"rgb(38,38,38)\" font-family=\"Arial\" font-size=\"10.00\" text-anchor=\"end\">\n",
       "\t\t<text><tspan font-family=\"Arial\">4e-13</tspan></text>\n",
       "\t</g>\n",
       "</g>\n",
       "<g fill=\"none\" color=\"black\" stroke=\"currentColor\" stroke-width=\"1.00\" stroke-linecap=\"butt\" stroke-linejoin=\"miter\">\n",
       "\t<path stroke=\"rgb(  0,   0,   0)\" d=\"M70.5,91.3 L83.0,91.3 M531.0,91.3 L518.5,91.3  \"/>\t<g transform=\"translate(62.2,94.6)\" stroke=\"none\" fill=\"rgb(38,38,38)\" font-family=\"Arial\" font-size=\"10.00\" text-anchor=\"end\">\n",
       "\t\t<text><tspan font-family=\"Arial\">6e-13</tspan></text>\n",
       "\t</g>\n",
       "</g>\n",
       "<g fill=\"none\" color=\"black\" stroke=\"currentColor\" stroke-width=\"1.00\" stroke-linecap=\"butt\" stroke-linejoin=\"miter\">\n",
       "\t<path stroke=\"rgb(  0,   0,   0)\" d=\"M70.5,18.1 L83.0,18.1 M531.0,18.1 L518.5,18.1  \"/>\t<g transform=\"translate(62.2,21.4)\" stroke=\"none\" fill=\"rgb(38,38,38)\" font-family=\"Arial\" font-size=\"10.00\" text-anchor=\"end\">\n",
       "\t\t<text><tspan font-family=\"Arial\">8e-13</tspan></text>\n",
       "\t</g>\n",
       "</g>\n",
       "<g fill=\"none\" color=\"black\" stroke=\"currentColor\" stroke-width=\"1.00\" stroke-linecap=\"butt\" stroke-linejoin=\"miter\">\n",
       "\t<path stroke=\"rgb(  0,   0,   0)\" d=\"M70.5,384.0 L70.5,371.5 M70.5,18.1 L70.5,30.6  \"/>\t<g transform=\"translate(70.5,405.3)\" stroke=\"none\" fill=\"rgb(38,38,38)\" font-family=\"Arial\" font-size=\"10.00\" text-anchor=\"middle\">\n",
       "\t\t<text><tspan font-family=\"Arial\">-1e-06</tspan></text>\n",
       "\t</g>\n",
       "</g>\n",
       "<g fill=\"none\" color=\"black\" stroke=\"currentColor\" stroke-width=\"1.00\" stroke-linecap=\"butt\" stroke-linejoin=\"miter\">\n",
       "\t<path stroke=\"rgb(  0,   0,   0)\" d=\"M185.6,384.0 L185.6,371.5 M185.6,18.1 L185.6,30.6  \"/>\t<g transform=\"translate(185.6,405.3)\" stroke=\"none\" fill=\"rgb(38,38,38)\" font-family=\"Arial\" font-size=\"10.00\" text-anchor=\"middle\">\n",
       "\t\t<text><tspan font-family=\"Arial\">-5e-07</tspan></text>\n",
       "\t</g>\n",
       "</g>\n",
       "<g fill=\"none\" color=\"black\" stroke=\"currentColor\" stroke-width=\"1.00\" stroke-linecap=\"butt\" stroke-linejoin=\"miter\">\n",
       "\t<path stroke=\"rgb(  0,   0,   0)\" d=\"M300.8,384.0 L300.8,371.5 M300.8,18.1 L300.8,30.6  \"/>\t<g transform=\"translate(300.8,405.3)\" stroke=\"none\" fill=\"rgb(38,38,38)\" font-family=\"Arial\" font-size=\"10.00\" text-anchor=\"middle\">\n",
       "\t\t<text><tspan font-family=\"Arial\">0</tspan></text>\n",
       "\t</g>\n",
       "</g>\n",
       "<g fill=\"none\" color=\"black\" stroke=\"currentColor\" stroke-width=\"1.00\" stroke-linecap=\"butt\" stroke-linejoin=\"miter\">\n",
       "\t<path stroke=\"rgb(  0,   0,   0)\" d=\"M415.9,384.0 L415.9,371.5 M415.9,18.1 L415.9,30.6  \"/>\t<g transform=\"translate(415.9,405.3)\" stroke=\"none\" fill=\"rgb(38,38,38)\" font-family=\"Arial\" font-size=\"10.00\" text-anchor=\"middle\">\n",
       "\t\t<text><tspan font-family=\"Arial\">5e-07</tspan></text>\n",
       "\t</g>\n",
       "</g>\n",
       "<g fill=\"none\" color=\"black\" stroke=\"currentColor\" stroke-width=\"1.00\" stroke-linecap=\"butt\" stroke-linejoin=\"miter\">\n",
       "\t<path stroke=\"rgb(  0,   0,   0)\" d=\"M531.0,384.0 L531.0,371.5 M531.0,18.1 L531.0,30.6  \"/>\t<g transform=\"translate(531.0,405.3)\" stroke=\"none\" fill=\"rgb(38,38,38)\" font-family=\"Arial\" font-size=\"10.00\" text-anchor=\"middle\">\n",
       "\t\t<text><tspan font-family=\"Arial\">1e-06</tspan></text>\n",
       "\t</g>\n",
       "</g>\n",
       "<g fill=\"none\" color=\"black\" stroke=\"currentColor\" stroke-width=\"1.00\" stroke-linecap=\"butt\" stroke-linejoin=\"miter\">\n",
       "</g>\n",
       "<g fill=\"none\" color=\"black\" stroke=\"currentColor\" stroke-width=\"1.00\" stroke-linecap=\"butt\" stroke-linejoin=\"miter\">\n",
       "</g>\n",
       "\t<g id=\"gnuplot_plot_1a\"><title>gnuplot_plot_1a</title>\n",
       "<g fill=\"none\" color=\"white\" stroke=\"rgb(  0,   0,   0)\" stroke-width=\"2.00\" stroke-linecap=\"butt\" stroke-linejoin=\"miter\">\n",
       "</g>\n",
       "<g fill=\"none\" color=\"black\" stroke=\"currentColor\" stroke-width=\"2.00\" stroke-linecap=\"butt\" stroke-linejoin=\"miter\">\n",
       "\t<path stroke=\"rgb(  0,   0, 255)\" d=\"M112.0,80.6 L113.9,85.3 L115.8,90.1 L117.7,94.7 L119.5,99.4 L121.4,103.9 L123.3,108.5 L125.2,112.9   L127.1,117.4 L129.0,121.8 L130.9,126.1 L132.8,130.4 L134.6,134.6 L136.5,138.8 L138.4,142.9 L140.3,147.0   L142.2,151.0 L144.1,155.0 L146.0,159.0 L147.9,162.9 L149.7,166.7 L151.6,170.5 L153.5,174.2 L155.4,177.9   L157.3,181.6 L159.2,185.2 L161.1,188.7 L163.0,192.2 L164.8,195.6 L166.7,199.0 L168.6,202.4 L170.5,205.7   L172.4,208.9 L174.3,212.1 L176.2,215.3 L178.1,218.4 L179.9,221.4 L181.8,224.4 L183.7,227.4 L185.6,230.3   L187.5,233.1 L189.4,236.0 L191.3,238.7 L193.2,241.4 L195.0,244.1 L196.9,246.7 L198.8,249.2 L200.7,251.8   L202.6,254.2 L204.5,256.6 L206.4,259.0 L208.3,261.3 L210.1,263.6 L212.0,265.8 L213.9,268.0 L215.8,270.1   L217.7,272.1 L219.6,274.2 L221.5,276.1 L223.4,278.1 L225.2,279.9 L227.1,281.8 L229.0,283.5 L230.9,285.3   L232.8,286.9 L234.7,288.6 L236.6,290.1 L238.5,291.7 L240.3,293.1 L242.2,294.6 L244.1,295.9 L246.0,297.3   L247.9,298.6 L249.8,299.8 L251.7,301.0 L253.6,302.1 L255.4,303.2 L257.3,304.2 L259.2,305.2 L261.1,306.2   L263.0,307.0 L264.9,307.9 L266.8,308.7 L268.7,309.4 L270.5,310.1 L272.4,310.7 L274.3,311.3 L276.2,311.9   L278.1,312.4 L280.0,312.8 L281.9,313.2 L283.8,313.6 L285.6,313.9 L287.5,314.1 L289.4,314.3 L291.3,314.5   L293.2,314.6 L295.1,314.6 L297.0,314.6 L298.9,314.6 L300.7,314.5 L302.6,314.3 L304.5,314.1 L306.4,313.9   L308.3,313.6 L310.2,313.3 L312.1,312.9 L314.0,312.4 L315.9,311.9 L317.7,311.4 L319.6,310.8 L321.5,310.2   L323.4,309.5 L325.3,308.8 L327.2,308.0 L329.1,307.1 L331.0,306.3 L332.8,305.3 L334.7,304.4 L336.6,303.3   L338.5,302.2 L340.4,301.1 L342.3,299.9 L344.2,298.7 L346.1,297.4 L347.9,296.1 L349.8,294.7 L351.7,293.3   L353.6,291.8 L355.5,290.3 L357.4,288.7 L359.3,287.1 L361.2,285.5 L363.0,283.7 L364.9,282.0 L366.8,280.2   L368.7,278.3 L370.6,276.4 L372.5,274.4 L374.4,272.4 L376.3,270.3 L378.1,268.2 L380.0,266.1 L381.9,263.9   L383.8,261.6 L385.7,259.3 L387.6,256.9 L389.5,254.5 L391.4,252.1 L393.2,249.6 L395.1,247.0 L397.0,244.4   L398.9,241.7 L400.8,239.0 L402.7,236.3 L404.6,233.5 L406.5,230.6 L408.3,227.7 L410.2,224.8 L412.1,221.8   L414.0,218.8 L415.9,215.7 L417.8,212.5 L419.7,209.3 L421.6,206.1 L423.4,202.8 L425.3,199.4 L427.2,196.0   L429.1,192.6 L431.0,189.1 L432.9,185.6 L434.8,182.0 L436.7,178.4 L438.5,174.7 L440.4,170.9 L442.3,167.2   L444.2,163.3 L446.1,159.4 L448.0,155.5 L449.9,151.5 L451.8,147.5 L453.6,143.4 L455.5,139.3 L457.4,135.1   L459.3,130.9 L461.2,126.6 L463.1,122.3 L465.0,117.9 L466.9,113.5 L468.7,109.0 L470.6,104.5 L472.5,99.9   L474.4,95.3 L476.3,90.6 L478.2,85.9 L480.1,81.1 L482.0,76.3 L483.8,71.5 L485.7,66.5 L487.6,61.6   L489.5,56.6  \"/></g>\n",
       "\t</g>\n",
       "\t<g id=\"gnuplot_plot_2a\"><title>gnuplot_plot_2a</title>\n",
       "<g fill=\"none\" color=\"black\" stroke=\"currentColor\" stroke-width=\"2.00\" stroke-linecap=\"butt\" stroke-linejoin=\"miter\">\n",
       "\t<path stroke=\"rgb(255,   0,   0)\" d=\"M319.6,340.0 L319.6,56.6  \"/></g>\n",
       "\t</g>\n",
       "\t<g id=\"gnuplot_plot_3a\"><title>gnuplot_plot_3a</title>\n",
       "<g fill=\"none\" color=\"black\" stroke=\"currentColor\" stroke-width=\"2.00\" stroke-linecap=\"butt\" stroke-linejoin=\"miter\">\n",
       "\t<path stroke=\"rgb(  0,   0,   0)\" d=\"M112.0,310.8 L113.9,310.8 L115.8,310.8 L117.7,310.8 L119.5,310.8 L121.4,310.8 L123.3,310.8 L125.2,310.8   L127.1,310.8 L129.0,310.8 L130.9,310.8 L132.8,310.8 L134.6,310.8 L136.5,310.8 L138.4,310.8 L140.3,310.8   L142.2,310.8 L144.1,310.8 L146.0,310.8 L147.9,310.8 L149.7,310.8 L151.6,310.8 L153.5,310.8 L155.4,310.8   L157.3,310.8 L159.2,310.8 L161.1,310.8 L163.0,310.8 L164.8,310.8 L166.7,310.8 L168.6,310.8 L170.5,310.8   L172.4,310.8 L174.3,310.8 L176.2,310.8 L178.1,310.8 L179.9,310.8 L181.8,310.8 L183.7,310.8 L185.6,310.8   L187.5,310.8 L189.4,310.8 L191.3,310.8 L193.2,310.8 L195.0,310.8 L196.9,310.8 L198.8,310.8 L200.7,310.8   L202.6,310.8 L204.5,310.8 L206.4,310.8 L208.3,310.8 L210.1,310.8 L212.0,310.8 L213.9,310.8 L215.8,310.8   L217.7,310.8 L219.6,310.8 L221.5,310.8 L223.4,310.8 L225.2,310.8 L227.1,310.8 L229.0,310.8 L230.9,310.8   L232.8,310.8 L234.7,310.8 L236.6,310.8 L238.5,310.8 L240.3,310.8 L242.2,310.8 L244.1,310.8 L246.0,310.8   L247.9,310.8 L249.8,310.8 L251.7,310.8 L253.6,310.8 L255.4,310.8 L257.3,310.8 L259.2,310.8 L261.1,310.8   L263.0,310.8 L264.9,310.8 L266.8,310.8 L268.7,310.8 L270.5,310.8 L272.4,310.8 L274.3,310.8 L276.2,310.8   L278.1,310.8 L280.0,310.8 L281.9,310.8 L283.8,310.8 L285.6,310.8 L287.5,310.8 L289.4,310.8 L291.3,310.8   L293.2,310.8 L295.1,310.8 L297.0,310.8 L298.9,310.8 L300.7,310.8 L302.6,310.8 L304.5,310.8 L306.4,310.8   L308.3,310.8 L310.2,310.8 L312.1,310.8 L314.0,310.8 L315.9,310.8 L317.7,310.8 L319.6,310.8 L321.5,310.8   L323.4,310.8 L325.3,310.8 L327.2,310.8 L329.1,310.8 L331.0,310.8 L332.8,310.8 L334.7,310.8 L336.6,310.8   L338.5,310.8 L340.4,310.8 L342.3,310.8 L344.2,310.8 L346.1,310.8 L347.9,310.8 L349.8,310.8 L351.7,310.8   L353.6,310.8 L355.5,310.8 L357.4,310.8 L359.3,310.8 L361.2,310.8 L363.0,310.8 L364.9,310.8 L366.8,310.8   L368.7,310.8 L370.6,310.8 L372.5,310.8 L374.4,310.8 L376.3,310.8 L378.1,310.8 L380.0,310.8 L381.9,310.8   L383.8,310.8 L385.7,310.8 L387.6,310.8 L389.5,310.8 L391.4,310.8 L393.2,310.8 L395.1,310.8 L397.0,310.8   L398.9,310.8 L400.8,310.8 L402.7,310.8 L404.6,310.8 L406.5,310.8 L408.3,310.8 L410.2,310.8 L412.1,310.8   L414.0,310.8 L415.9,310.8 L417.8,310.8 L419.7,310.8 L421.6,310.8 L423.4,310.8 L425.3,310.8 L427.2,310.8   L429.1,310.8 L431.0,310.8 L432.9,310.8 L434.8,310.8 L436.7,310.8 L438.5,310.8 L440.4,310.8 L442.3,310.8   L444.2,310.8 L446.1,310.8 L448.0,310.8 L449.9,310.8 L451.8,310.8 L453.6,310.8 L455.5,310.8 L457.4,310.8   L459.3,310.8 L461.2,310.8 L463.1,310.8 L465.0,310.8 L466.9,310.8 L468.7,310.8 L470.6,310.8 L472.5,310.8   L474.4,310.8 L476.3,310.8 L478.2,310.8 L480.1,310.8 L482.0,310.8 L483.8,310.8 L485.7,310.8 L487.6,310.8   L489.5,310.8  \"/></g>\n",
       "\t</g>\n",
       "<g fill=\"none\" color=\"black\" stroke=\"currentColor\" stroke-width=\"2.00\" stroke-linecap=\"butt\" stroke-linejoin=\"miter\">\n",
       "</g>\n",
       "<g fill=\"none\" color=\"black\" stroke=\"black\" stroke-width=\"0.50\" stroke-linecap=\"butt\" stroke-linejoin=\"miter\">\n",
       "\t<path stroke=\"rgb( 38,  38,  38)\" d=\"M70.6,383.9 L531.1,383.9 M70.6,18.0 L531.1,18.0 M70.6,383.9 L70.6,18.0 M531.1,383.9 L531.1,18.0    \"/></g>\n",
       "<g fill=\"none\" color=\"black\" stroke=\"rgb( 38,  38,  38)\" stroke-width=\"1.00\" stroke-linecap=\"butt\" stroke-linejoin=\"miter\">\n",
       "</g>\n",
       "<g fill=\"none\" color=\"black\" stroke=\"currentColor\" stroke-width=\"1.00\" stroke-linecap=\"butt\" stroke-linejoin=\"miter\">\n",
       "</g>\n",
       "</g>\n",
       "</svg>"
      ],
      "text/plain": [
       "<IPython.core.display.SVG object>"
      ]
     },
     "metadata": {},
     "output_type": "display_data"
    }
   ],
   "source": [
    "%plot -s 600,500 -f 'svg'\n",
    "\n",
    "x=[-10*t:t/10:t*10];\n",
    "y=a*x.^2+b.*x+c;\n",
    "\n",
    "plot(x,y,'b-','linewidth',2)\n",
    "hold on\n",
    "plot([t t],[min(y)-0.1*max(y) max(y)],'r','linewidth',2)\n",
    "plot(x,zeros(size(x)),'k','linewidth',2)"
   ]
  },
  {
   "cell_type": "code",
   "execution_count": null,
   "metadata": {},
   "outputs": [],
   "source": []
  }
 ],
 "metadata": {
  "kernelspec": {
   "display_name": "Octave",
   "language": "octave",
   "name": "octave"
  },
  "language_info": {
   "file_extension": ".m",
   "help_links": [
    {
     "text": "GNU Octave",
     "url": "https://www.gnu.org/software/octave/support.html"
    },
    {
     "text": "Octave Kernel",
     "url": "https://github.com/Calysto/octave_kernel"
    },
    {
     "text": "MetaKernel Magics",
     "url": "https://metakernel.readthedocs.io/en/latest/source/README.html"
    }
   ],
   "mimetype": "text/x-octave",
   "name": "octave",
   "version": "5.2.0"
  }
 },
 "nbformat": 4,
 "nbformat_minor": 2
}
